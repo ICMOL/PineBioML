{
 "cells": [
  {
   "cell_type": "markdown",
   "id": "2b51ce99",
   "metadata": {},
   "source": [
    "# IO"
   ]
  },
  {
   "cell_type": "code",
   "execution_count": 1,
   "id": "8f0fb1d1",
   "metadata": {},
   "outputs": [],
   "source": [
    "from PineBioML import IO"
   ]
  },
  {
   "cell_type": "code",
   "execution_count": 2,
   "id": "0f94a0ae",
   "metadata": {},
   "outputs": [],
   "source": [
    "# Path\n",
    "input_folder = \"./input/\"\n",
    "output_folder = \"./output/\"\n",
    "export_title = \"example_basic \""
   ]
  },
  {
   "cell_type": "code",
   "execution_count": 3,
   "id": "864aac99",
   "metadata": {},
   "outputs": [],
   "source": [
    "##### Read data method 1: read single file\n",
    "##### index_col is the column of index of samples (or sample name).\n",
    "##### If your data do not have such column, please set index_col=None\n",
    "data = IO.read_file(input_folder+ \"HAPTdata.csv\", index_col=None)\n",
    "\n",
    "##### pick the target label column\n",
    "y = data[\"target\"]\n",
    "\n",
    "##### drop the target from dataframe, using the remaining to predict y (the target)\n",
    "x = data.drop(\"target\", axis = 1)"
   ]
  },
  {
   "cell_type": "code",
   "execution_count": 4,
   "id": "e4a7a657",
   "metadata": {},
   "outputs": [
    {
     "data": {
      "text/html": [
       "<div>\n",
       "<style scoped>\n",
       "    .dataframe tbody tr th:only-of-type {\n",
       "        vertical-align: middle;\n",
       "    }\n",
       "\n",
       "    .dataframe tbody tr th {\n",
       "        vertical-align: top;\n",
       "    }\n",
       "\n",
       "    .dataframe thead th {\n",
       "        text-align: right;\n",
       "    }\n",
       "</style>\n",
       "<table border=\"1\" class=\"dataframe\">\n",
       "  <thead>\n",
       "    <tr style=\"text-align: right;\">\n",
       "      <th></th>\n",
       "      <th>Column1</th>\n",
       "      <th>Column2</th>\n",
       "      <th>Column3</th>\n",
       "      <th>Column4</th>\n",
       "      <th>Column5</th>\n",
       "      <th>Column6</th>\n",
       "      <th>Column7</th>\n",
       "      <th>Column8</th>\n",
       "      <th>Column9</th>\n",
       "      <th>Column10</th>\n",
       "      <th>...</th>\n",
       "      <th>Column552</th>\n",
       "      <th>Column553</th>\n",
       "      <th>Column554</th>\n",
       "      <th>Column555</th>\n",
       "      <th>Column556</th>\n",
       "      <th>Column557</th>\n",
       "      <th>Column558</th>\n",
       "      <th>Column559</th>\n",
       "      <th>Column560</th>\n",
       "      <th>Column561</th>\n",
       "    </tr>\n",
       "  </thead>\n",
       "  <tbody>\n",
       "    <tr>\n",
       "      <th>0</th>\n",
       "      <td>0.030914</td>\n",
       "      <td>-0.008927</td>\n",
       "      <td>0.040382</td>\n",
       "      <td>-0.938504</td>\n",
       "      <td>-0.944626</td>\n",
       "      <td>-0.759334</td>\n",
       "      <td>-0.952398</td>\n",
       "      <td>-0.950281</td>\n",
       "      <td>-0.802483</td>\n",
       "      <td>-0.757099</td>\n",
       "      <td>...</td>\n",
       "      <td>0.122830</td>\n",
       "      <td>-0.345684</td>\n",
       "      <td>-0.709087</td>\n",
       "      <td>0.006462</td>\n",
       "      <td>0.162920</td>\n",
       "      <td>-0.825886</td>\n",
       "      <td>0.271151</td>\n",
       "      <td>-0.720559</td>\n",
       "      <td>0.276779</td>\n",
       "      <td>-0.051074</td>\n",
       "    </tr>\n",
       "    <tr>\n",
       "      <th>1</th>\n",
       "      <td>0.042548</td>\n",
       "      <td>0.001079</td>\n",
       "      <td>-0.026236</td>\n",
       "      <td>-0.975516</td>\n",
       "      <td>-0.977502</td>\n",
       "      <td>-0.960146</td>\n",
       "      <td>-0.986694</td>\n",
       "      <td>-0.978983</td>\n",
       "      <td>-0.966820</td>\n",
       "      <td>-0.757099</td>\n",
       "      <td>...</td>\n",
       "      <td>-0.314688</td>\n",
       "      <td>-0.142804</td>\n",
       "      <td>-0.600867</td>\n",
       "      <td>-0.083495</td>\n",
       "      <td>0.017500</td>\n",
       "      <td>-0.434375</td>\n",
       "      <td>0.920593</td>\n",
       "      <td>-0.698684</td>\n",
       "      <td>0.281322</td>\n",
       "      <td>-0.076825</td>\n",
       "    </tr>\n",
       "    <tr>\n",
       "      <th>2</th>\n",
       "      <td>0.038297</td>\n",
       "      <td>-0.011660</td>\n",
       "      <td>-0.025643</td>\n",
       "      <td>-0.993922</td>\n",
       "      <td>-0.979215</td>\n",
       "      <td>-0.973030</td>\n",
       "      <td>-0.994298</td>\n",
       "      <td>-0.980535</td>\n",
       "      <td>-0.977508</td>\n",
       "      <td>-0.799005</td>\n",
       "      <td>...</td>\n",
       "      <td>0.114730</td>\n",
       "      <td>-0.209525</td>\n",
       "      <td>-0.645500</td>\n",
       "      <td>-0.034956</td>\n",
       "      <td>0.202302</td>\n",
       "      <td>0.064103</td>\n",
       "      <td>0.145068</td>\n",
       "      <td>-0.703355</td>\n",
       "      <td>0.280062</td>\n",
       "      <td>-0.072302</td>\n",
       "    </tr>\n",
       "    <tr>\n",
       "      <th>3</th>\n",
       "      <td>0.036205</td>\n",
       "      <td>-0.018148</td>\n",
       "      <td>-0.025240</td>\n",
       "      <td>-0.994845</td>\n",
       "      <td>-0.981534</td>\n",
       "      <td>-0.976175</td>\n",
       "      <td>-0.995169</td>\n",
       "      <td>-0.983020</td>\n",
       "      <td>-0.980785</td>\n",
       "      <td>-0.798401</td>\n",
       "      <td>...</td>\n",
       "      <td>0.164515</td>\n",
       "      <td>-0.359352</td>\n",
       "      <td>-0.738474</td>\n",
       "      <td>-0.017067</td>\n",
       "      <td>0.154438</td>\n",
       "      <td>0.340134</td>\n",
       "      <td>0.296407</td>\n",
       "      <td>-0.699545</td>\n",
       "      <td>0.284093</td>\n",
       "      <td>-0.070079</td>\n",
       "    </tr>\n",
       "    <tr>\n",
       "      <th>4</th>\n",
       "      <td>0.038034</td>\n",
       "      <td>-0.013437</td>\n",
       "      <td>-0.032899</td>\n",
       "      <td>-0.993955</td>\n",
       "      <td>-0.977493</td>\n",
       "      <td>-0.984290</td>\n",
       "      <td>-0.994006</td>\n",
       "      <td>-0.977354</td>\n",
       "      <td>-0.985899</td>\n",
       "      <td>-0.798401</td>\n",
       "      <td>...</td>\n",
       "      <td>-0.056085</td>\n",
       "      <td>-0.544467</td>\n",
       "      <td>-0.846150</td>\n",
       "      <td>-0.002223</td>\n",
       "      <td>-0.040046</td>\n",
       "      <td>0.736715</td>\n",
       "      <td>-0.118545</td>\n",
       "      <td>-0.692849</td>\n",
       "      <td>0.290701</td>\n",
       "      <td>-0.066849</td>\n",
       "    </tr>\n",
       "  </tbody>\n",
       "</table>\n",
       "<p>5 rows × 561 columns</p>\n",
       "</div>"
      ],
      "text/plain": [
       "    Column1   Column2   Column3   Column4   Column5   Column6   Column7  \\\n",
       "0  0.030914 -0.008927  0.040382 -0.938504 -0.944626 -0.759334 -0.952398   \n",
       "1  0.042548  0.001079 -0.026236 -0.975516 -0.977502 -0.960146 -0.986694   \n",
       "2  0.038297 -0.011660 -0.025643 -0.993922 -0.979215 -0.973030 -0.994298   \n",
       "3  0.036205 -0.018148 -0.025240 -0.994845 -0.981534 -0.976175 -0.995169   \n",
       "4  0.038034 -0.013437 -0.032899 -0.993955 -0.977493 -0.984290 -0.994006   \n",
       "\n",
       "    Column8   Column9  Column10  ...  Column552  Column553  Column554  \\\n",
       "0 -0.950281 -0.802483 -0.757099  ...   0.122830  -0.345684  -0.709087   \n",
       "1 -0.978983 -0.966820 -0.757099  ...  -0.314688  -0.142804  -0.600867   \n",
       "2 -0.980535 -0.977508 -0.799005  ...   0.114730  -0.209525  -0.645500   \n",
       "3 -0.983020 -0.980785 -0.798401  ...   0.164515  -0.359352  -0.738474   \n",
       "4 -0.977354 -0.985899 -0.798401  ...  -0.056085  -0.544467  -0.846150   \n",
       "\n",
       "   Column555  Column556  Column557  Column558  Column559  Column560  Column561  \n",
       "0   0.006462   0.162920  -0.825886   0.271151  -0.720559   0.276779  -0.051074  \n",
       "1  -0.083495   0.017500  -0.434375   0.920593  -0.698684   0.281322  -0.076825  \n",
       "2  -0.034956   0.202302   0.064103   0.145068  -0.703355   0.280062  -0.072302  \n",
       "3  -0.017067   0.154438   0.340134   0.296407  -0.699545   0.284093  -0.070079  \n",
       "4  -0.002223  -0.040046   0.736715  -0.118545  -0.692849   0.290701  -0.066849  \n",
       "\n",
       "[5 rows x 561 columns]"
      ]
     },
     "execution_count": 4,
     "metadata": {},
     "output_type": "execute_result"
    }
   ],
   "source": [
    "x.head(5)"
   ]
  },
  {
   "cell_type": "code",
   "execution_count": 5,
   "id": "0fd82811",
   "metadata": {},
   "outputs": [
    {
     "data": {
      "text/plain": [
       "target\n",
       "STANDING              556\n",
       "LAYING                545\n",
       "SITTING               508\n",
       "WALKING               496\n",
       "WALKING_UPSTAIRS      471\n",
       "WALKING_DOWNSTAIRS    420\n",
       "STAND_TO_LIE           49\n",
       "SIT_TO_LIE             32\n",
       "LIE_TO_STAND           27\n",
       "LIE_TO_SIT             25\n",
       "STAND_TO_SIT           23\n",
       "SIT_TO_STAND           10\n",
       "Name: count, dtype: int64"
      ]
     },
     "execution_count": 5,
     "metadata": {},
     "output_type": "execute_result"
    }
   ],
   "source": [
    "y.value_counts()"
   ]
  },
  {
   "cell_type": "markdown",
   "id": "2e571d75",
   "metadata": {},
   "source": [
    "# Preprocessing"
   ]
  },
  {
   "cell_type": "code",
   "execution_count": 6,
   "id": "ceff71dd",
   "metadata": {},
   "outputs": [],
   "source": [
    "from PineBioML.preprocessing import Normalizer\n",
    "\n",
    "x = Normalizer(method=\"StandardScaler\").fit_transform(x)"
   ]
  },
  {
   "cell_type": "code",
   "execution_count": 7,
   "id": "f42d1ccb",
   "metadata": {},
   "outputs": [],
   "source": [
    "from PineBioML.preprocessing import impute\n",
    "\n",
    "# The imputer will drop the features within which more than 60% of values are unkown.\n",
    "# Remaining will be filled by 0.\n",
    "simple = impute.simple_imputer(threshold = 0.6, strategy = \"constant\")\n",
    "x = simple.fit_transform(x)"
   ]
  },
  {
   "cell_type": "markdown",
   "id": "b854998c",
   "metadata": {},
   "source": [
    "# Data overview"
   ]
  },
  {
   "cell_type": "code",
   "execution_count": 8,
   "id": "0dcf9fc0",
   "metadata": {},
   "outputs": [],
   "source": [
    "import PineBioML.report.utils as report_utils"
   ]
  },
  {
   "cell_type": "markdown",
   "id": "a4345f62",
   "metadata": {},
   "source": [
    "report_utils.data_overview(x, y, is_classification=True, prefix=\"Original Data\", save_fig=False, save_path=\"./output/images/\", show_fig=True)"
   ]
  },
  {
   "cell_type": "markdown",
   "id": "ea9ff678",
   "metadata": {},
   "source": [
    "# Feature selection"
   ]
  },
  {
   "cell_type": "code",
   "execution_count": 9,
   "id": "ebee9752",
   "metadata": {},
   "outputs": [],
   "source": [
    "from PineBioML.selection.classification import ensemble_selector"
   ]
  },
  {
   "cell_type": "code",
   "execution_count": 10,
   "id": "1da74543",
   "metadata": {},
   "outputs": [
    {
     "name": "stdout",
     "output_type": "stream",
     "text": [
      "Using  c45  to select.\n"
     ]
    },
    {
     "name": "stderr",
     "output_type": "stream",
     "text": [
      "100%|██████████| 561/561 [00:04<00:00, 139.84it/s]\n"
     ]
    },
    {
     "name": "stdout",
     "output_type": "stream",
     "text": [
      "c45  is done. Using 4.3813\n",
      "\n",
      "Using  RF_gini  to select.\n",
      "RF_gini  is done. Using 8.2905\n",
      "\n",
      "Using  Lasso  to select.\n",
      "Lasso  is done. Using 1.0831\n",
      "\n",
      "Using  multi_Lasso  to select.\n",
      "multi_Lasso  is done. Using 4.3496\n",
      "\n",
      "Using  SVM  to select.\n",
      "SVM  is done. Using 38.9301\n",
      "\n"
     ]
    },
    {
     "data": {
      "text/plain": [
       "<PineBioML.selection.classification.ensemble_selector at 0x232dd9c0c10>"
      ]
     },
     "execution_count": 10,
     "metadata": {},
     "output_type": "execute_result"
    }
   ],
   "source": [
    "# Use several way to select top-k important features, which includes decision tree, random forest, lasso, multi lasso, svm, adaboost, xgboost\n",
    "selector = ensemble_selector(k = 12)\n",
    "selector.fit(x, y)"
   ]
  },
  {
   "cell_type": "code",
   "execution_count": 11,
   "id": "d88eda78",
   "metadata": {},
   "outputs": [
    {
     "data": {
      "text/html": [
       "<div>\n",
       "<style scoped>\n",
       "    .dataframe tbody tr th:only-of-type {\n",
       "        vertical-align: middle;\n",
       "    }\n",
       "\n",
       "    .dataframe tbody tr th {\n",
       "        vertical-align: top;\n",
       "    }\n",
       "\n",
       "    .dataframe thead th {\n",
       "        text-align: right;\n",
       "    }\n",
       "</style>\n",
       "<table border=\"1\" class=\"dataframe\">\n",
       "  <thead>\n",
       "    <tr style=\"text-align: right;\">\n",
       "      <th></th>\n",
       "      <th>DT_score_c45</th>\n",
       "      <th>RandomForest_gini</th>\n",
       "      <th>LassoLars</th>\n",
       "      <th>multi_Lasso</th>\n",
       "      <th>SVM</th>\n",
       "    </tr>\n",
       "  </thead>\n",
       "  <tbody>\n",
       "    <tr>\n",
       "      <th>Column69</th>\n",
       "      <td>0.702048</td>\n",
       "      <td>NaN</td>\n",
       "      <td>NaN</td>\n",
       "      <td>NaN</td>\n",
       "      <td>NaN</td>\n",
       "    </tr>\n",
       "    <tr>\n",
       "      <th>Column68</th>\n",
       "      <td>0.701791</td>\n",
       "      <td>NaN</td>\n",
       "      <td>NaN</td>\n",
       "      <td>NaN</td>\n",
       "      <td>NaN</td>\n",
       "    </tr>\n",
       "    <tr>\n",
       "      <th>Column26</th>\n",
       "      <td>0.701749</td>\n",
       "      <td>NaN</td>\n",
       "      <td>NaN</td>\n",
       "      <td>NaN</td>\n",
       "      <td>NaN</td>\n",
       "    </tr>\n",
       "    <tr>\n",
       "      <th>Column144</th>\n",
       "      <td>0.701746</td>\n",
       "      <td>NaN</td>\n",
       "      <td>NaN</td>\n",
       "      <td>NaN</td>\n",
       "      <td>NaN</td>\n",
       "    </tr>\n",
       "    <tr>\n",
       "      <th>Column294</th>\n",
       "      <td>0.701673</td>\n",
       "      <td>NaN</td>\n",
       "      <td>NaN</td>\n",
       "      <td>NaN</td>\n",
       "      <td>NaN</td>\n",
       "    </tr>\n",
       "    <tr>\n",
       "      <th>Column70</th>\n",
       "      <td>0.701290</td>\n",
       "      <td>NaN</td>\n",
       "      <td>NaN</td>\n",
       "      <td>NaN</td>\n",
       "      <td>NaN</td>\n",
       "    </tr>\n",
       "    <tr>\n",
       "      <th>Column106</th>\n",
       "      <td>0.701270</td>\n",
       "      <td>NaN</td>\n",
       "      <td>NaN</td>\n",
       "      <td>NaN</td>\n",
       "      <td>NaN</td>\n",
       "    </tr>\n",
       "    <tr>\n",
       "      <th>Column374</th>\n",
       "      <td>0.701238</td>\n",
       "      <td>NaN</td>\n",
       "      <td>NaN</td>\n",
       "      <td>NaN</td>\n",
       "      <td>NaN</td>\n",
       "    </tr>\n",
       "    <tr>\n",
       "      <th>Column145</th>\n",
       "      <td>0.701216</td>\n",
       "      <td>NaN</td>\n",
       "      <td>NaN</td>\n",
       "      <td>NaN</td>\n",
       "      <td>NaN</td>\n",
       "    </tr>\n",
       "    <tr>\n",
       "      <th>Column25</th>\n",
       "      <td>0.701206</td>\n",
       "      <td>NaN</td>\n",
       "      <td>NaN</td>\n",
       "      <td>NaN</td>\n",
       "      <td>0.004619</td>\n",
       "    </tr>\n",
       "    <tr>\n",
       "      <th>Column30</th>\n",
       "      <td>0.701165</td>\n",
       "      <td>NaN</td>\n",
       "      <td>NaN</td>\n",
       "      <td>NaN</td>\n",
       "      <td>NaN</td>\n",
       "    </tr>\n",
       "    <tr>\n",
       "      <th>Column110</th>\n",
       "      <td>0.701155</td>\n",
       "      <td>NaN</td>\n",
       "      <td>NaN</td>\n",
       "      <td>NaN</td>\n",
       "      <td>NaN</td>\n",
       "    </tr>\n",
       "    <tr>\n",
       "      <th>Column53</th>\n",
       "      <td>NaN</td>\n",
       "      <td>0.016677</td>\n",
       "      <td>NaN</td>\n",
       "      <td>NaN</td>\n",
       "      <td>0.004455</td>\n",
       "    </tr>\n",
       "    <tr>\n",
       "      <th>Column23</th>\n",
       "      <td>NaN</td>\n",
       "      <td>0.016575</td>\n",
       "      <td>NaN</td>\n",
       "      <td>0.059029</td>\n",
       "      <td>NaN</td>\n",
       "    </tr>\n",
       "    <tr>\n",
       "      <th>Column1</th>\n",
       "      <td>NaN</td>\n",
       "      <td>0.016225</td>\n",
       "      <td>1.889180</td>\n",
       "      <td>0.691172</td>\n",
       "      <td>NaN</td>\n",
       "    </tr>\n",
       "    <tr>\n",
       "      <th>Column57</th>\n",
       "      <td>NaN</td>\n",
       "      <td>0.015204</td>\n",
       "      <td>NaN</td>\n",
       "      <td>NaN</td>\n",
       "      <td>NaN</td>\n",
       "    </tr>\n",
       "    <tr>\n",
       "      <th>Column559</th>\n",
       "      <td>NaN</td>\n",
       "      <td>0.014778</td>\n",
       "      <td>NaN</td>\n",
       "      <td>NaN</td>\n",
       "      <td>0.006027</td>\n",
       "    </tr>\n",
       "    <tr>\n",
       "      <th>Column41</th>\n",
       "      <td>NaN</td>\n",
       "      <td>0.014130</td>\n",
       "      <td>NaN</td>\n",
       "      <td>NaN</td>\n",
       "      <td>0.004508</td>\n",
       "    </tr>\n",
       "    <tr>\n",
       "      <th>Column54</th>\n",
       "      <td>NaN</td>\n",
       "      <td>0.013886</td>\n",
       "      <td>NaN</td>\n",
       "      <td>NaN</td>\n",
       "      <td>NaN</td>\n",
       "    </tr>\n",
       "    <tr>\n",
       "      <th>Column51</th>\n",
       "      <td>NaN</td>\n",
       "      <td>0.013404</td>\n",
       "      <td>NaN</td>\n",
       "      <td>NaN</td>\n",
       "      <td>NaN</td>\n",
       "    </tr>\n",
       "    <tr>\n",
       "      <th>Column50</th>\n",
       "      <td>NaN</td>\n",
       "      <td>0.012440</td>\n",
       "      <td>1.198007</td>\n",
       "      <td>NaN</td>\n",
       "      <td>0.004620</td>\n",
       "    </tr>\n",
       "    <tr>\n",
       "      <th>Column560</th>\n",
       "      <td>NaN</td>\n",
       "      <td>0.011895</td>\n",
       "      <td>NaN</td>\n",
       "      <td>NaN</td>\n",
       "      <td>NaN</td>\n",
       "    </tr>\n",
       "    <tr>\n",
       "      <th>Column2</th>\n",
       "      <td>NaN</td>\n",
       "      <td>0.011668</td>\n",
       "      <td>1.216856</td>\n",
       "      <td>NaN</td>\n",
       "      <td>0.005070</td>\n",
       "    </tr>\n",
       "    <tr>\n",
       "      <th>Column10</th>\n",
       "      <td>NaN</td>\n",
       "      <td>0.011535</td>\n",
       "      <td>NaN</td>\n",
       "      <td>NaN</td>\n",
       "      <td>NaN</td>\n",
       "    </tr>\n",
       "    <tr>\n",
       "      <th>Column45</th>\n",
       "      <td>NaN</td>\n",
       "      <td>NaN</td>\n",
       "      <td>1.428173</td>\n",
       "      <td>0.230166</td>\n",
       "      <td>NaN</td>\n",
       "    </tr>\n",
       "    <tr>\n",
       "      <th>Column38</th>\n",
       "      <td>NaN</td>\n",
       "      <td>NaN</td>\n",
       "      <td>1.156701</td>\n",
       "      <td>NaN</td>\n",
       "      <td>NaN</td>\n",
       "    </tr>\n",
       "    <tr>\n",
       "      <th>Column317</th>\n",
       "      <td>NaN</td>\n",
       "      <td>NaN</td>\n",
       "      <td>1.129399</td>\n",
       "      <td>NaN</td>\n",
       "      <td>NaN</td>\n",
       "    </tr>\n",
       "    <tr>\n",
       "      <th>Column489</th>\n",
       "      <td>NaN</td>\n",
       "      <td>NaN</td>\n",
       "      <td>1.071053</td>\n",
       "      <td>0.167538</td>\n",
       "      <td>NaN</td>\n",
       "    </tr>\n",
       "    <tr>\n",
       "      <th>Column62</th>\n",
       "      <td>NaN</td>\n",
       "      <td>NaN</td>\n",
       "      <td>1.051625</td>\n",
       "      <td>NaN</td>\n",
       "      <td>NaN</td>\n",
       "    </tr>\n",
       "    <tr>\n",
       "      <th>Column538</th>\n",
       "      <td>NaN</td>\n",
       "      <td>NaN</td>\n",
       "      <td>1.049501</td>\n",
       "      <td>NaN</td>\n",
       "      <td>NaN</td>\n",
       "    </tr>\n",
       "    <tr>\n",
       "      <th>Column435</th>\n",
       "      <td>NaN</td>\n",
       "      <td>NaN</td>\n",
       "      <td>1.048996</td>\n",
       "      <td>NaN</td>\n",
       "      <td>NaN</td>\n",
       "    </tr>\n",
       "    <tr>\n",
       "      <th>Column382</th>\n",
       "      <td>NaN</td>\n",
       "      <td>NaN</td>\n",
       "      <td>1.041566</td>\n",
       "      <td>NaN</td>\n",
       "      <td>NaN</td>\n",
       "    </tr>\n",
       "    <tr>\n",
       "      <th>Column61</th>\n",
       "      <td>NaN</td>\n",
       "      <td>NaN</td>\n",
       "      <td>1.001265</td>\n",
       "      <td>0.476418</td>\n",
       "      <td>NaN</td>\n",
       "    </tr>\n",
       "    <tr>\n",
       "      <th>Column44</th>\n",
       "      <td>NaN</td>\n",
       "      <td>NaN</td>\n",
       "      <td>NaN</td>\n",
       "      <td>0.462523</td>\n",
       "      <td>NaN</td>\n",
       "    </tr>\n",
       "    <tr>\n",
       "      <th>Column47</th>\n",
       "      <td>NaN</td>\n",
       "      <td>NaN</td>\n",
       "      <td>NaN</td>\n",
       "      <td>0.451026</td>\n",
       "      <td>NaN</td>\n",
       "    </tr>\n",
       "    <tr>\n",
       "      <th>Column60</th>\n",
       "      <td>NaN</td>\n",
       "      <td>NaN</td>\n",
       "      <td>NaN</td>\n",
       "      <td>0.383210</td>\n",
       "      <td>NaN</td>\n",
       "    </tr>\n",
       "    <tr>\n",
       "      <th>Column48</th>\n",
       "      <td>NaN</td>\n",
       "      <td>NaN</td>\n",
       "      <td>NaN</td>\n",
       "      <td>0.191018</td>\n",
       "      <td>NaN</td>\n",
       "    </tr>\n",
       "    <tr>\n",
       "      <th>Column19</th>\n",
       "      <td>NaN</td>\n",
       "      <td>NaN</td>\n",
       "      <td>NaN</td>\n",
       "      <td>0.123000</td>\n",
       "      <td>NaN</td>\n",
       "    </tr>\n",
       "    <tr>\n",
       "      <th>Column123</th>\n",
       "      <td>NaN</td>\n",
       "      <td>NaN</td>\n",
       "      <td>NaN</td>\n",
       "      <td>0.067258</td>\n",
       "      <td>NaN</td>\n",
       "    </tr>\n",
       "    <tr>\n",
       "      <th>Column46</th>\n",
       "      <td>NaN</td>\n",
       "      <td>NaN</td>\n",
       "      <td>NaN</td>\n",
       "      <td>0.053452</td>\n",
       "      <td>NaN</td>\n",
       "    </tr>\n",
       "    <tr>\n",
       "      <th>Column446</th>\n",
       "      <td>NaN</td>\n",
       "      <td>NaN</td>\n",
       "      <td>NaN</td>\n",
       "      <td>NaN</td>\n",
       "      <td>0.010761</td>\n",
       "    </tr>\n",
       "    <tr>\n",
       "      <th>Column183</th>\n",
       "      <td>NaN</td>\n",
       "      <td>NaN</td>\n",
       "      <td>NaN</td>\n",
       "      <td>NaN</td>\n",
       "      <td>0.010248</td>\n",
       "    </tr>\n",
       "    <tr>\n",
       "      <th>Column143</th>\n",
       "      <td>NaN</td>\n",
       "      <td>NaN</td>\n",
       "      <td>NaN</td>\n",
       "      <td>NaN</td>\n",
       "      <td>0.007410</td>\n",
       "    </tr>\n",
       "    <tr>\n",
       "      <th>Column146</th>\n",
       "      <td>NaN</td>\n",
       "      <td>NaN</td>\n",
       "      <td>NaN</td>\n",
       "      <td>NaN</td>\n",
       "      <td>0.005457</td>\n",
       "    </tr>\n",
       "    <tr>\n",
       "      <th>Column557</th>\n",
       "      <td>NaN</td>\n",
       "      <td>NaN</td>\n",
       "      <td>NaN</td>\n",
       "      <td>NaN</td>\n",
       "      <td>0.004908</td>\n",
       "    </tr>\n",
       "    <tr>\n",
       "      <th>Column13</th>\n",
       "      <td>NaN</td>\n",
       "      <td>NaN</td>\n",
       "      <td>NaN</td>\n",
       "      <td>NaN</td>\n",
       "      <td>0.004532</td>\n",
       "    </tr>\n",
       "  </tbody>\n",
       "</table>\n",
       "</div>"
      ],
      "text/plain": [
       "           DT_score_c45  RandomForest_gini  LassoLars  multi_Lasso       SVM\n",
       "Column69       0.702048                NaN        NaN          NaN       NaN\n",
       "Column68       0.701791                NaN        NaN          NaN       NaN\n",
       "Column26       0.701749                NaN        NaN          NaN       NaN\n",
       "Column144      0.701746                NaN        NaN          NaN       NaN\n",
       "Column294      0.701673                NaN        NaN          NaN       NaN\n",
       "Column70       0.701290                NaN        NaN          NaN       NaN\n",
       "Column106      0.701270                NaN        NaN          NaN       NaN\n",
       "Column374      0.701238                NaN        NaN          NaN       NaN\n",
       "Column145      0.701216                NaN        NaN          NaN       NaN\n",
       "Column25       0.701206                NaN        NaN          NaN  0.004619\n",
       "Column30       0.701165                NaN        NaN          NaN       NaN\n",
       "Column110      0.701155                NaN        NaN          NaN       NaN\n",
       "Column53            NaN           0.016677        NaN          NaN  0.004455\n",
       "Column23            NaN           0.016575        NaN     0.059029       NaN\n",
       "Column1             NaN           0.016225   1.889180     0.691172       NaN\n",
       "Column57            NaN           0.015204        NaN          NaN       NaN\n",
       "Column559           NaN           0.014778        NaN          NaN  0.006027\n",
       "Column41            NaN           0.014130        NaN          NaN  0.004508\n",
       "Column54            NaN           0.013886        NaN          NaN       NaN\n",
       "Column51            NaN           0.013404        NaN          NaN       NaN\n",
       "Column50            NaN           0.012440   1.198007          NaN  0.004620\n",
       "Column560           NaN           0.011895        NaN          NaN       NaN\n",
       "Column2             NaN           0.011668   1.216856          NaN  0.005070\n",
       "Column10            NaN           0.011535        NaN          NaN       NaN\n",
       "Column45            NaN                NaN   1.428173     0.230166       NaN\n",
       "Column38            NaN                NaN   1.156701          NaN       NaN\n",
       "Column317           NaN                NaN   1.129399          NaN       NaN\n",
       "Column489           NaN                NaN   1.071053     0.167538       NaN\n",
       "Column62            NaN                NaN   1.051625          NaN       NaN\n",
       "Column538           NaN                NaN   1.049501          NaN       NaN\n",
       "Column435           NaN                NaN   1.048996          NaN       NaN\n",
       "Column382           NaN                NaN   1.041566          NaN       NaN\n",
       "Column61            NaN                NaN   1.001265     0.476418       NaN\n",
       "Column44            NaN                NaN        NaN     0.462523       NaN\n",
       "Column47            NaN                NaN        NaN     0.451026       NaN\n",
       "Column60            NaN                NaN        NaN     0.383210       NaN\n",
       "Column48            NaN                NaN        NaN     0.191018       NaN\n",
       "Column19            NaN                NaN        NaN     0.123000       NaN\n",
       "Column123           NaN                NaN        NaN     0.067258       NaN\n",
       "Column46            NaN                NaN        NaN     0.053452       NaN\n",
       "Column446           NaN                NaN        NaN          NaN  0.010761\n",
       "Column183           NaN                NaN        NaN          NaN  0.010248\n",
       "Column143           NaN                NaN        NaN          NaN  0.007410\n",
       "Column146           NaN                NaN        NaN          NaN  0.005457\n",
       "Column557           NaN                NaN        NaN          NaN  0.004908\n",
       "Column13            NaN                NaN        NaN          NaN  0.004532"
      ]
     },
     "execution_count": 11,
     "metadata": {},
     "output_type": "execute_result"
    }
   ],
   "source": [
    "# The feature importance given by diffirent methods.\n",
    "# Please Notice that the score between diffirent methods is not comparable.\n",
    "selector.what_matters()"
   ]
  },
  {
   "cell_type": "code",
   "execution_count": 12,
   "id": "8dbaf676",
   "metadata": {},
   "outputs": [],
   "source": [
    "x = selector.transform(x)"
   ]
  },
  {
   "cell_type": "markdown",
   "id": "28284af4",
   "metadata": {},
   "source": [
    "# Modeling"
   ]
  },
  {
   "cell_type": "markdown",
   "id": "aa912f13",
   "metadata": {},
   "source": [
    "### Train test split"
   ]
  },
  {
   "cell_type": "code",
   "execution_count": 13,
   "id": "c9528af9",
   "metadata": {},
   "outputs": [],
   "source": [
    "from sklearn.model_selection import train_test_split\n",
    "\n",
    "x_train, x_valid, y_train, y_valid = train_test_split(x, y, test_size=0.33, random_state=132, shuffle=True, stratify=y)"
   ]
  },
  {
   "cell_type": "markdown",
   "id": "5c2a1ab3",
   "metadata": {},
   "source": [
    "### Tuning a model"
   ]
  },
  {
   "cell_type": "code",
   "execution_count": 14,
   "id": "2ab9576c",
   "metadata": {},
   "outputs": [],
   "source": [
    "import PineBioML.model.supervised.Classification as tuner"
   ]
  },
  {
   "cell_type": "code",
   "execution_count": 15,
   "id": "efcf22ef",
   "metadata": {},
   "outputs": [],
   "source": [
    "svm = tuner.XGBoost_tuner(target=\"qwk\")"
   ]
  },
  {
   "cell_type": "code",
   "execution_count": 16,
   "id": "71593750",
   "metadata": {},
   "outputs": [
    {
     "name": "stdout",
     "output_type": "stream",
     "text": [
      "optuna seed 4000  |  validation seed 13904  |  model seed 15545\n",
      "    XGBoost start tuning. it will take a while.\n",
      "    optuna is better, best trial:  21\n"
     ]
    },
    {
     "data": {
      "text/plain": [
       "<PineBioML.model.supervised.Classification.XGBoost_tuner at 0x232de21a150>"
      ]
     },
     "execution_count": 16,
     "metadata": {},
     "output_type": "execute_result"
    }
   ],
   "source": [
    "svm.fit(x_train, y_train)"
   ]
  },
  {
   "cell_type": "code",
   "execution_count": 17,
   "id": "019feec4",
   "metadata": {},
   "outputs": [
    {
     "data": {
      "text/html": [
       "<div>\n",
       "<style scoped>\n",
       "    .dataframe tbody tr th:only-of-type {\n",
       "        vertical-align: middle;\n",
       "    }\n",
       "\n",
       "    .dataframe tbody tr th {\n",
       "        vertical-align: top;\n",
       "    }\n",
       "\n",
       "    .dataframe thead th {\n",
       "        text-align: right;\n",
       "    }\n",
       "</style>\n",
       "<table border=\"1\" class=\"dataframe\">\n",
       "  <thead>\n",
       "    <tr style=\"text-align: right;\">\n",
       "      <th></th>\n",
       "      <th>parameter</th>\n",
       "      <th>dtype</th>\n",
       "      <th>lower_bound</th>\n",
       "      <th>upper_bound</th>\n",
       "      <th>result</th>\n",
       "    </tr>\n",
       "  </thead>\n",
       "  <tbody>\n",
       "    <tr>\n",
       "      <th>XGBoost</th>\n",
       "      <td>None</td>\n",
       "      <td>None</td>\n",
       "      <td>None</td>\n",
       "      <td>None</td>\n",
       "      <td>None</td>\n",
       "    </tr>\n",
       "    <tr>\n",
       "      <th></th>\n",
       "      <td>n_estimators</td>\n",
       "      <td>int</td>\n",
       "      <td>4</td>\n",
       "      <td>256</td>\n",
       "      <td>133.0</td>\n",
       "    </tr>\n",
       "    <tr>\n",
       "      <th></th>\n",
       "      <td>max_depth</td>\n",
       "      <td>int</td>\n",
       "      <td>6</td>\n",
       "      <td>13</td>\n",
       "      <td>8.0</td>\n",
       "    </tr>\n",
       "    <tr>\n",
       "      <th></th>\n",
       "      <td>gamma</td>\n",
       "      <td>float</td>\n",
       "      <td>0.0001</td>\n",
       "      <td>0.01</td>\n",
       "      <td>0.000147</td>\n",
       "    </tr>\n",
       "    <tr>\n",
       "      <th></th>\n",
       "      <td>min_child_weight</td>\n",
       "      <td>float</td>\n",
       "      <td>0.5</td>\n",
       "      <td>23</td>\n",
       "      <td>3.850111</td>\n",
       "    </tr>\n",
       "    <tr>\n",
       "      <th></th>\n",
       "      <td>learning_rate</td>\n",
       "      <td>float</td>\n",
       "      <td>0.1</td>\n",
       "      <td>1.0</td>\n",
       "      <td>0.102225</td>\n",
       "    </tr>\n",
       "    <tr>\n",
       "      <th></th>\n",
       "      <td>subsample</td>\n",
       "      <td>float</td>\n",
       "      <td>0.5</td>\n",
       "      <td>1</td>\n",
       "      <td>0.849474</td>\n",
       "    </tr>\n",
       "    <tr>\n",
       "      <th></th>\n",
       "      <td>colsample_bytree</td>\n",
       "      <td>float</td>\n",
       "      <td>0.5</td>\n",
       "      <td>1</td>\n",
       "      <td>0.661428</td>\n",
       "    </tr>\n",
       "    <tr>\n",
       "      <th></th>\n",
       "      <td>reg_lambda</td>\n",
       "      <td>float</td>\n",
       "      <td>0.001</td>\n",
       "      <td>1</td>\n",
       "      <td>0.002273</td>\n",
       "    </tr>\n",
       "    <tr>\n",
       "      <th></th>\n",
       "      <td>reg_alpha</td>\n",
       "      <td>float</td>\n",
       "      <td>0.0001</td>\n",
       "      <td>1.0</td>\n",
       "      <td>0.000131</td>\n",
       "    </tr>\n",
       "  </tbody>\n",
       "</table>\n",
       "</div>"
      ],
      "text/plain": [
       "                parameter  dtype lower_bound upper_bound    result\n",
       "XGBoost              None   None        None        None      None\n",
       "             n_estimators    int           4         256     133.0\n",
       "                max_depth    int           6          13       8.0\n",
       "                    gamma  float      0.0001        0.01  0.000147\n",
       "         min_child_weight  float         0.5          23  3.850111\n",
       "            learning_rate  float         0.1         1.0  0.102225\n",
       "                subsample  float         0.5           1  0.849474\n",
       "         colsample_bytree  float         0.5           1  0.661428\n",
       "               reg_lambda  float       0.001           1  0.002273\n",
       "                reg_alpha  float      0.0001         1.0  0.000131"
      ]
     },
     "execution_count": 17,
     "metadata": {},
     "output_type": "execute_result"
    }
   ],
   "source": [
    "svm.detail()"
   ]
  },
  {
   "cell_type": "code",
   "execution_count": 18,
   "id": "e286da3b",
   "metadata": {},
   "outputs": [
    {
     "data": {
      "application/vnd.plotly.v1+json": {
       "config": {
        "plotlyServerURL": "https://plot.ly"
       },
       "data": [
        {
         "mode": "markers",
         "name": "quadratic_weighted_kappa",
         "type": "scatter",
         "x": [
          0,
          1,
          2,
          3,
          4,
          5,
          6,
          7,
          8,
          9,
          10,
          11,
          12,
          13,
          14,
          15,
          16,
          17,
          18,
          19,
          20,
          21,
          22,
          23,
          24,
          25,
          26,
          27,
          28,
          29,
          30,
          31,
          32,
          33,
          34,
          35,
          36,
          37,
          38,
          39,
          40,
          41,
          42,
          43,
          44,
          45,
          46,
          47,
          48,
          49,
          50,
          51,
          52,
          53,
          54,
          55,
          56,
          57,
          58,
          59,
          60,
          61,
          62,
          63,
          64,
          65,
          66,
          67,
          68,
          69,
          70,
          71,
          72,
          73,
          74
         ],
         "y": [
          0.9546644667338959,
          0.9552886122723784,
          0.9607721320400113,
          0.957599641650997,
          0.9652206351146347,
          0.9607403808245636,
          0.9436444269732324,
          0.9553056777095875,
          0.948312167984897,
          0.9555266093568673,
          0.9652657783648809,
          0.9655418402533597,
          0.9656301337716258,
          0.9640252109457453,
          0.9596631624445664,
          0.9608379295416073,
          0.9643842367573011,
          0.956124297392531,
          0.9630568516730712,
          0.9614681844688331,
          0.9609755395969518,
          0.9663790360785803,
          0.9627711562469807,
          0.9634429783145112,
          0.9640108396150424,
          0.9596038786569803,
          0.9630721385587782,
          0.96355952543385,
          0.958930312604364,
          0.9642394765820936,
          0.9629969804388869,
          0.962337812457114,
          0.963408209530118,
          0.9647599783411689,
          0.9622518490144326,
          0.9631773656262534,
          0.9583625326731837,
          0.961701304260188,
          0.957473995721371,
          0.9650020967591569,
          0.9596850952412529,
          0.9640872010534428,
          0.9612839865887833,
          0.9635717149190206,
          0.9614990829192885,
          0.9639436062716387,
          0.9610967661178019,
          0.9605610202604484,
          0.9592898097505254,
          0.9514799223047501,
          0.9608611727656872,
          0.9647201381066844,
          0.9610778681907821,
          0.9612172770517857,
          0.9618405222418855,
          0.9611142281160399,
          0.958046533673094,
          0.9545686992481134,
          0.9648131119926765,
          0.9584129351067695,
          0.963271535400405,
          0.9603236852090751,
          0.9643154433664083,
          0.9648985020819806,
          0.9640975677567143,
          0.9648618611509445,
          0.951917689079344,
          0.9634913988535263,
          0.9646509030785836,
          0.9559876946101479,
          0.9637874751112602,
          0.9654315644845424,
          0.9639645402136706,
          0.9620962080007945,
          0.9649985610328192
         ]
        },
        {
         "mode": "lines",
         "name": "Best Value",
         "type": "scatter",
         "x": [
          0,
          1,
          2,
          3,
          4,
          5,
          6,
          7,
          8,
          9,
          10,
          11,
          12,
          13,
          14,
          15,
          16,
          17,
          18,
          19,
          20,
          21,
          22,
          23,
          24,
          25,
          26,
          27,
          28,
          29,
          30,
          31,
          32,
          33,
          34,
          35,
          36,
          37,
          38,
          39,
          40,
          41,
          42,
          43,
          44,
          45,
          46,
          47,
          48,
          49,
          50,
          51,
          52,
          53,
          54,
          55,
          56,
          57,
          58,
          59,
          60,
          61,
          62,
          63,
          64,
          65,
          66,
          67,
          68,
          69,
          70,
          71,
          72,
          73,
          74
         ],
         "y": [
          0.9546644667338959,
          0.9552886122723784,
          0.9607721320400113,
          0.9607721320400113,
          0.9652206351146347,
          0.9652206351146347,
          0.9652206351146347,
          0.9652206351146347,
          0.9652206351146347,
          0.9652206351146347,
          0.9652657783648809,
          0.9655418402533597,
          0.9656301337716258,
          0.9656301337716258,
          0.9656301337716258,
          0.9656301337716258,
          0.9656301337716258,
          0.9656301337716258,
          0.9656301337716258,
          0.9656301337716258,
          0.9656301337716258,
          0.9663790360785803,
          0.9663790360785803,
          0.9663790360785803,
          0.9663790360785803,
          0.9663790360785803,
          0.9663790360785803,
          0.9663790360785803,
          0.9663790360785803,
          0.9663790360785803,
          0.9663790360785803,
          0.9663790360785803,
          0.9663790360785803,
          0.9663790360785803,
          0.9663790360785803,
          0.9663790360785803,
          0.9663790360785803,
          0.9663790360785803,
          0.9663790360785803,
          0.9663790360785803,
          0.9663790360785803,
          0.9663790360785803,
          0.9663790360785803,
          0.9663790360785803,
          0.9663790360785803,
          0.9663790360785803,
          0.9663790360785803,
          0.9663790360785803,
          0.9663790360785803,
          0.9663790360785803,
          0.9663790360785803,
          0.9663790360785803,
          0.9663790360785803,
          0.9663790360785803,
          0.9663790360785803,
          0.9663790360785803,
          0.9663790360785803,
          0.9663790360785803,
          0.9663790360785803,
          0.9663790360785803,
          0.9663790360785803,
          0.9663790360785803,
          0.9663790360785803,
          0.9663790360785803,
          0.9663790360785803,
          0.9663790360785803,
          0.9663790360785803,
          0.9663790360785803,
          0.9663790360785803,
          0.9663790360785803,
          0.9663790360785803,
          0.9663790360785803,
          0.9663790360785803,
          0.9663790360785803,
          0.9663790360785803
         ]
        },
        {
         "marker": {
          "color": "#cccccc"
         },
         "mode": "markers",
         "name": "Infeasible Trial",
         "showlegend": false,
         "type": "scatter",
         "x": [],
         "y": []
        }
       ],
       "layout": {
        "annotations": [
         {
          "showarrow": false,
          "text": "Default setting",
          "x": 1,
          "xanchor": "right",
          "xref": "x domain",
          "y": 0.9629409218094718,
          "yanchor": "top",
          "yref": "y"
         }
        ],
        "shapes": [
         {
          "line": {
           "dash": "dot"
          },
          "type": "line",
          "x0": 0,
          "x1": 1,
          "xref": "x domain",
          "y0": 0.9629409218094718,
          "y1": 0.9629409218094718,
          "yref": "y"
         }
        ],
        "template": {
         "data": {
          "bar": [
           {
            "error_x": {
             "color": "#2a3f5f"
            },
            "error_y": {
             "color": "#2a3f5f"
            },
            "marker": {
             "line": {
              "color": "#E5ECF6",
              "width": 0.5
             },
             "pattern": {
              "fillmode": "overlay",
              "size": 10,
              "solidity": 0.2
             }
            },
            "type": "bar"
           }
          ],
          "barpolar": [
           {
            "marker": {
             "line": {
              "color": "#E5ECF6",
              "width": 0.5
             },
             "pattern": {
              "fillmode": "overlay",
              "size": 10,
              "solidity": 0.2
             }
            },
            "type": "barpolar"
           }
          ],
          "carpet": [
           {
            "aaxis": {
             "endlinecolor": "#2a3f5f",
             "gridcolor": "white",
             "linecolor": "white",
             "minorgridcolor": "white",
             "startlinecolor": "#2a3f5f"
            },
            "baxis": {
             "endlinecolor": "#2a3f5f",
             "gridcolor": "white",
             "linecolor": "white",
             "minorgridcolor": "white",
             "startlinecolor": "#2a3f5f"
            },
            "type": "carpet"
           }
          ],
          "choropleth": [
           {
            "colorbar": {
             "outlinewidth": 0,
             "ticks": ""
            },
            "type": "choropleth"
           }
          ],
          "contour": [
           {
            "colorbar": {
             "outlinewidth": 0,
             "ticks": ""
            },
            "colorscale": [
             [
              0,
              "#0d0887"
             ],
             [
              0.1111111111111111,
              "#46039f"
             ],
             [
              0.2222222222222222,
              "#7201a8"
             ],
             [
              0.3333333333333333,
              "#9c179e"
             ],
             [
              0.4444444444444444,
              "#bd3786"
             ],
             [
              0.5555555555555556,
              "#d8576b"
             ],
             [
              0.6666666666666666,
              "#ed7953"
             ],
             [
              0.7777777777777778,
              "#fb9f3a"
             ],
             [
              0.8888888888888888,
              "#fdca26"
             ],
             [
              1,
              "#f0f921"
             ]
            ],
            "type": "contour"
           }
          ],
          "contourcarpet": [
           {
            "colorbar": {
             "outlinewidth": 0,
             "ticks": ""
            },
            "type": "contourcarpet"
           }
          ],
          "heatmap": [
           {
            "colorbar": {
             "outlinewidth": 0,
             "ticks": ""
            },
            "colorscale": [
             [
              0,
              "#0d0887"
             ],
             [
              0.1111111111111111,
              "#46039f"
             ],
             [
              0.2222222222222222,
              "#7201a8"
             ],
             [
              0.3333333333333333,
              "#9c179e"
             ],
             [
              0.4444444444444444,
              "#bd3786"
             ],
             [
              0.5555555555555556,
              "#d8576b"
             ],
             [
              0.6666666666666666,
              "#ed7953"
             ],
             [
              0.7777777777777778,
              "#fb9f3a"
             ],
             [
              0.8888888888888888,
              "#fdca26"
             ],
             [
              1,
              "#f0f921"
             ]
            ],
            "type": "heatmap"
           }
          ],
          "heatmapgl": [
           {
            "colorbar": {
             "outlinewidth": 0,
             "ticks": ""
            },
            "colorscale": [
             [
              0,
              "#0d0887"
             ],
             [
              0.1111111111111111,
              "#46039f"
             ],
             [
              0.2222222222222222,
              "#7201a8"
             ],
             [
              0.3333333333333333,
              "#9c179e"
             ],
             [
              0.4444444444444444,
              "#bd3786"
             ],
             [
              0.5555555555555556,
              "#d8576b"
             ],
             [
              0.6666666666666666,
              "#ed7953"
             ],
             [
              0.7777777777777778,
              "#fb9f3a"
             ],
             [
              0.8888888888888888,
              "#fdca26"
             ],
             [
              1,
              "#f0f921"
             ]
            ],
            "type": "heatmapgl"
           }
          ],
          "histogram": [
           {
            "marker": {
             "pattern": {
              "fillmode": "overlay",
              "size": 10,
              "solidity": 0.2
             }
            },
            "type": "histogram"
           }
          ],
          "histogram2d": [
           {
            "colorbar": {
             "outlinewidth": 0,
             "ticks": ""
            },
            "colorscale": [
             [
              0,
              "#0d0887"
             ],
             [
              0.1111111111111111,
              "#46039f"
             ],
             [
              0.2222222222222222,
              "#7201a8"
             ],
             [
              0.3333333333333333,
              "#9c179e"
             ],
             [
              0.4444444444444444,
              "#bd3786"
             ],
             [
              0.5555555555555556,
              "#d8576b"
             ],
             [
              0.6666666666666666,
              "#ed7953"
             ],
             [
              0.7777777777777778,
              "#fb9f3a"
             ],
             [
              0.8888888888888888,
              "#fdca26"
             ],
             [
              1,
              "#f0f921"
             ]
            ],
            "type": "histogram2d"
           }
          ],
          "histogram2dcontour": [
           {
            "colorbar": {
             "outlinewidth": 0,
             "ticks": ""
            },
            "colorscale": [
             [
              0,
              "#0d0887"
             ],
             [
              0.1111111111111111,
              "#46039f"
             ],
             [
              0.2222222222222222,
              "#7201a8"
             ],
             [
              0.3333333333333333,
              "#9c179e"
             ],
             [
              0.4444444444444444,
              "#bd3786"
             ],
             [
              0.5555555555555556,
              "#d8576b"
             ],
             [
              0.6666666666666666,
              "#ed7953"
             ],
             [
              0.7777777777777778,
              "#fb9f3a"
             ],
             [
              0.8888888888888888,
              "#fdca26"
             ],
             [
              1,
              "#f0f921"
             ]
            ],
            "type": "histogram2dcontour"
           }
          ],
          "mesh3d": [
           {
            "colorbar": {
             "outlinewidth": 0,
             "ticks": ""
            },
            "type": "mesh3d"
           }
          ],
          "parcoords": [
           {
            "line": {
             "colorbar": {
              "outlinewidth": 0,
              "ticks": ""
             }
            },
            "type": "parcoords"
           }
          ],
          "pie": [
           {
            "automargin": true,
            "type": "pie"
           }
          ],
          "scatter": [
           {
            "fillpattern": {
             "fillmode": "overlay",
             "size": 10,
             "solidity": 0.2
            },
            "type": "scatter"
           }
          ],
          "scatter3d": [
           {
            "line": {
             "colorbar": {
              "outlinewidth": 0,
              "ticks": ""
             }
            },
            "marker": {
             "colorbar": {
              "outlinewidth": 0,
              "ticks": ""
             }
            },
            "type": "scatter3d"
           }
          ],
          "scattercarpet": [
           {
            "marker": {
             "colorbar": {
              "outlinewidth": 0,
              "ticks": ""
             }
            },
            "type": "scattercarpet"
           }
          ],
          "scattergeo": [
           {
            "marker": {
             "colorbar": {
              "outlinewidth": 0,
              "ticks": ""
             }
            },
            "type": "scattergeo"
           }
          ],
          "scattergl": [
           {
            "marker": {
             "colorbar": {
              "outlinewidth": 0,
              "ticks": ""
             }
            },
            "type": "scattergl"
           }
          ],
          "scattermapbox": [
           {
            "marker": {
             "colorbar": {
              "outlinewidth": 0,
              "ticks": ""
             }
            },
            "type": "scattermapbox"
           }
          ],
          "scatterpolar": [
           {
            "marker": {
             "colorbar": {
              "outlinewidth": 0,
              "ticks": ""
             }
            },
            "type": "scatterpolar"
           }
          ],
          "scatterpolargl": [
           {
            "marker": {
             "colorbar": {
              "outlinewidth": 0,
              "ticks": ""
             }
            },
            "type": "scatterpolargl"
           }
          ],
          "scatterternary": [
           {
            "marker": {
             "colorbar": {
              "outlinewidth": 0,
              "ticks": ""
             }
            },
            "type": "scatterternary"
           }
          ],
          "surface": [
           {
            "colorbar": {
             "outlinewidth": 0,
             "ticks": ""
            },
            "colorscale": [
             [
              0,
              "#0d0887"
             ],
             [
              0.1111111111111111,
              "#46039f"
             ],
             [
              0.2222222222222222,
              "#7201a8"
             ],
             [
              0.3333333333333333,
              "#9c179e"
             ],
             [
              0.4444444444444444,
              "#bd3786"
             ],
             [
              0.5555555555555556,
              "#d8576b"
             ],
             [
              0.6666666666666666,
              "#ed7953"
             ],
             [
              0.7777777777777778,
              "#fb9f3a"
             ],
             [
              0.8888888888888888,
              "#fdca26"
             ],
             [
              1,
              "#f0f921"
             ]
            ],
            "type": "surface"
           }
          ],
          "table": [
           {
            "cells": {
             "fill": {
              "color": "#EBF0F8"
             },
             "line": {
              "color": "white"
             }
            },
            "header": {
             "fill": {
              "color": "#C8D4E3"
             },
             "line": {
              "color": "white"
             }
            },
            "type": "table"
           }
          ]
         },
         "layout": {
          "annotationdefaults": {
           "arrowcolor": "#2a3f5f",
           "arrowhead": 0,
           "arrowwidth": 1
          },
          "autotypenumbers": "strict",
          "coloraxis": {
           "colorbar": {
            "outlinewidth": 0,
            "ticks": ""
           }
          },
          "colorscale": {
           "diverging": [
            [
             0,
             "#8e0152"
            ],
            [
             0.1,
             "#c51b7d"
            ],
            [
             0.2,
             "#de77ae"
            ],
            [
             0.3,
             "#f1b6da"
            ],
            [
             0.4,
             "#fde0ef"
            ],
            [
             0.5,
             "#f7f7f7"
            ],
            [
             0.6,
             "#e6f5d0"
            ],
            [
             0.7,
             "#b8e186"
            ],
            [
             0.8,
             "#7fbc41"
            ],
            [
             0.9,
             "#4d9221"
            ],
            [
             1,
             "#276419"
            ]
           ],
           "sequential": [
            [
             0,
             "#0d0887"
            ],
            [
             0.1111111111111111,
             "#46039f"
            ],
            [
             0.2222222222222222,
             "#7201a8"
            ],
            [
             0.3333333333333333,
             "#9c179e"
            ],
            [
             0.4444444444444444,
             "#bd3786"
            ],
            [
             0.5555555555555556,
             "#d8576b"
            ],
            [
             0.6666666666666666,
             "#ed7953"
            ],
            [
             0.7777777777777778,
             "#fb9f3a"
            ],
            [
             0.8888888888888888,
             "#fdca26"
            ],
            [
             1,
             "#f0f921"
            ]
           ],
           "sequentialminus": [
            [
             0,
             "#0d0887"
            ],
            [
             0.1111111111111111,
             "#46039f"
            ],
            [
             0.2222222222222222,
             "#7201a8"
            ],
            [
             0.3333333333333333,
             "#9c179e"
            ],
            [
             0.4444444444444444,
             "#bd3786"
            ],
            [
             0.5555555555555556,
             "#d8576b"
            ],
            [
             0.6666666666666666,
             "#ed7953"
            ],
            [
             0.7777777777777778,
             "#fb9f3a"
            ],
            [
             0.8888888888888888,
             "#fdca26"
            ],
            [
             1,
             "#f0f921"
            ]
           ]
          },
          "colorway": [
           "#636efa",
           "#EF553B",
           "#00cc96",
           "#ab63fa",
           "#FFA15A",
           "#19d3f3",
           "#FF6692",
           "#B6E880",
           "#FF97FF",
           "#FECB52"
          ],
          "font": {
           "color": "#2a3f5f"
          },
          "geo": {
           "bgcolor": "white",
           "lakecolor": "white",
           "landcolor": "#E5ECF6",
           "showlakes": true,
           "showland": true,
           "subunitcolor": "white"
          },
          "hoverlabel": {
           "align": "left"
          },
          "hovermode": "closest",
          "mapbox": {
           "style": "light"
          },
          "paper_bgcolor": "white",
          "plot_bgcolor": "#E5ECF6",
          "polar": {
           "angularaxis": {
            "gridcolor": "white",
            "linecolor": "white",
            "ticks": ""
           },
           "bgcolor": "#E5ECF6",
           "radialaxis": {
            "gridcolor": "white",
            "linecolor": "white",
            "ticks": ""
           }
          },
          "scene": {
           "xaxis": {
            "backgroundcolor": "#E5ECF6",
            "gridcolor": "white",
            "gridwidth": 2,
            "linecolor": "white",
            "showbackground": true,
            "ticks": "",
            "zerolinecolor": "white"
           },
           "yaxis": {
            "backgroundcolor": "#E5ECF6",
            "gridcolor": "white",
            "gridwidth": 2,
            "linecolor": "white",
            "showbackground": true,
            "ticks": "",
            "zerolinecolor": "white"
           },
           "zaxis": {
            "backgroundcolor": "#E5ECF6",
            "gridcolor": "white",
            "gridwidth": 2,
            "linecolor": "white",
            "showbackground": true,
            "ticks": "",
            "zerolinecolor": "white"
           }
          },
          "shapedefaults": {
           "line": {
            "color": "#2a3f5f"
           }
          },
          "ternary": {
           "aaxis": {
            "gridcolor": "white",
            "linecolor": "white",
            "ticks": ""
           },
           "baxis": {
            "gridcolor": "white",
            "linecolor": "white",
            "ticks": ""
           },
           "bgcolor": "#E5ECF6",
           "caxis": {
            "gridcolor": "white",
            "linecolor": "white",
            "ticks": ""
           }
          },
          "title": {
           "x": 0.05
          },
          "xaxis": {
           "automargin": true,
           "gridcolor": "white",
           "linecolor": "white",
           "ticks": "",
           "title": {
            "standoff": 15
           },
           "zerolinecolor": "white",
           "zerolinewidth": 2
          },
          "yaxis": {
           "automargin": true,
           "gridcolor": "white",
           "linecolor": "white",
           "ticks": "",
           "title": {
            "standoff": 15
           },
           "zerolinecolor": "white",
           "zerolinewidth": 2
          }
         }
        },
        "title": {
         "text": "Optimization History Plot"
        },
        "xaxis": {
         "title": {
          "text": "Trial"
         }
        },
        "yaxis": {
         "title": {
          "text": "quadratic_weighted_kappa"
         }
        }
       }
      }
     },
     "metadata": {},
     "output_type": "display_data"
    }
   ],
   "source": [
    "svm.plot()"
   ]
  },
  {
   "cell_type": "code",
   "execution_count": 19,
   "id": "d6f9ce76",
   "metadata": {},
   "outputs": [
    {
     "data": {
      "text/plain": [
       "{'optuna publication': 'https://dl.acm.org/doi/10.1145/3292500.3330701',\n",
       " 'optuna document': 'https://optuna.org/',\n",
       " 'sklearn publication': 'https://dl.acm.org/doi/10.5555/1953048.2078195',\n",
       " 'XGBoost document': 'https://xgboost.readthedocs.io/en/stable/',\n",
       " 'XGBoost publication': 'https://dl.acm.org/doi/10.1145/2939672.2939785'}"
      ]
     },
     "execution_count": 19,
     "metadata": {},
     "output_type": "execute_result"
    }
   ],
   "source": [
    "svm.reference()"
   ]
  },
  {
   "cell_type": "code",
   "execution_count": 20,
   "id": "762794d5",
   "metadata": {},
   "outputs": [
    {
     "name": "stdout",
     "output_type": "stream",
     "text": [
      "                   precision    recall  f1-score support\n",
      "LAYING                   1.0  0.988889  0.994413   180.0\n",
      "LIE_TO_SIT          0.444444       0.5  0.470588     8.0\n",
      "LIE_TO_STAND        0.555556  0.555556  0.555556     9.0\n",
      "SITTING              0.84375  0.803571  0.823171   168.0\n",
      "SIT_TO_LIE          0.428571       0.6       0.5    10.0\n",
      "SIT_TO_STAND             0.4  0.666667       0.5     3.0\n",
      "STANDING            0.835979  0.858696  0.847185   184.0\n",
      "STAND_TO_LIE             0.4       0.5  0.444444    16.0\n",
      "STAND_TO_SIT        0.428571     0.375       0.4     8.0\n",
      "WALKING             0.881657  0.908537  0.894895   164.0\n",
      "WALKING_DOWNSTAIRS  0.777778  0.755396  0.766423   139.0\n",
      "WALKING_UPSTAIRS    0.805369  0.774194  0.789474   155.0\n",
      "                                                        \n",
      "macro avg            0.65014  0.690542  0.665512  1044.0\n",
      "weighted avg        0.840014  0.836207  0.837556  1044.0\n",
      "accuracy                                0.836207  1044.0\n"
     ]
    },
    {
     "data": {
      "image/png": "[encoded data removed]",
      "text/plain": [
       "<Figure size 640x480 with 2 Axes>"
      ]
     },
     "metadata": {},
     "output_type": "display_data"
    },
    {
     "data": {
      "image/png": "[encoded data removed]",
      "text/plain": [
       "<Figure size 640x480 with 1 Axes>"
      ]
     },
     "metadata": {},
     "output_type": "display_data"
    }
   ],
   "source": [
    "report_utils.classification_summary(y_valid, svm.predict_proba(x_valid), save_fig=False)"
   ]
  },
  {
   "cell_type": "code",
   "execution_count": null,
   "id": "00fb1fa4",
   "metadata": {},
   "outputs": [],
   "source": []
  }
 ],
 "metadata": {
  "kernelspec": {
   "display_name": "Python 3",
   "language": "python",
   "name": "python3"
  },
  "language_info": {
   "codemirror_mode": {
    "name": "ipython",
    "version": 3
   },
   "file_extension": ".py",
   "mimetype": "text/x-python",
   "name": "python",
   "nbconvert_exporter": "python",
   "pygments_lexer": "ipython3",
   "version": "3.11.9"
  }
 },
 "nbformat": 4,
 "nbformat_minor": 5
}
