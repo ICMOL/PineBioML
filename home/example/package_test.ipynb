{
 "cells": [
  {
   "cell_type": "code",
   "execution_count": 1,
   "id": "473c9584",
   "metadata": {},
   "outputs": [],
   "source": [
    "import pandas as pd\n",
    "import os "
   ]
  },
  {
   "cell_type": "code",
   "execution_count": 2,
   "id": "c8bb4226",
   "metadata": {},
   "outputs": [],
   "source": [
    "import package"
   ]
  },
  {
   "cell_type": "code",
   "execution_count": 3,
   "id": "de39a642",
   "metadata": {},
   "outputs": [],
   "source": [
    "export_title = \"bagged log \""
   ]
  },
  {
   "cell_type": "markdown",
   "id": "2b51ce99",
   "metadata": {},
   "source": [
    "# IO"
   ]
  },
  {
   "cell_type": "code",
   "execution_count": 4,
   "id": "864aac99",
   "metadata": {},
   "outputs": [
    {
     "data": {
      "text/html": [
       "<div>\n",
       "<style scoped>\n",
       "    .dataframe tbody tr th:only-of-type {\n",
       "        vertical-align: middle;\n",
       "    }\n",
       "\n",
       "    .dataframe tbody tr th {\n",
       "        vertical-align: top;\n",
       "    }\n",
       "\n",
       "    .dataframe thead th {\n",
       "        text-align: right;\n",
       "    }\n",
       "</style>\n",
       "<table border=\"1\" class=\"dataframe\">\n",
       "  <thead>\n",
       "    <tr style=\"text-align: right;\">\n",
       "      <th></th>\n",
       "      <th>Tumor/Normal</th>\n",
       "      <th>A1BG</th>\n",
       "      <th>A1CF</th>\n",
       "      <th>A2M</th>\n",
       "      <th>A2ML1</th>\n",
       "      <th>A4GALT</th>\n",
       "      <th>A4GNT</th>\n",
       "      <th>AAAS</th>\n",
       "      <th>AACS</th>\n",
       "      <th>AADAC</th>\n",
       "      <th>...</th>\n",
       "      <th>ZSWIM9</th>\n",
       "      <th>ZW10</th>\n",
       "      <th>ZWILCH</th>\n",
       "      <th>ZWINT</th>\n",
       "      <th>ZXDA</th>\n",
       "      <th>ZXDC</th>\n",
       "      <th>ZYG11B</th>\n",
       "      <th>ZYX</th>\n",
       "      <th>ZZEF1</th>\n",
       "      <th>ZZZ3</th>\n",
       "    </tr>\n",
       "    <tr>\n",
       "      <th>patientID-radiomics</th>\n",
       "      <th></th>\n",
       "      <th></th>\n",
       "      <th></th>\n",
       "      <th></th>\n",
       "      <th></th>\n",
       "      <th></th>\n",
       "      <th></th>\n",
       "      <th></th>\n",
       "      <th></th>\n",
       "      <th></th>\n",
       "      <th></th>\n",
       "      <th></th>\n",
       "      <th></th>\n",
       "      <th></th>\n",
       "      <th></th>\n",
       "      <th></th>\n",
       "      <th></th>\n",
       "      <th></th>\n",
       "      <th></th>\n",
       "      <th></th>\n",
       "      <th></th>\n",
       "    </tr>\n",
       "  </thead>\n",
       "  <tbody>\n",
       "    <tr>\n",
       "      <th>C3N-03884</th>\n",
       "      <td>Tumor</td>\n",
       "      <td>28.424135</td>\n",
       "      <td>24.246165</td>\n",
       "      <td>29.366812</td>\n",
       "      <td>NaN</td>\n",
       "      <td>NaN</td>\n",
       "      <td>NaN</td>\n",
       "      <td>22.839828</td>\n",
       "      <td>24.662698</td>\n",
       "      <td>23.246860</td>\n",
       "      <td>...</td>\n",
       "      <td>NaN</td>\n",
       "      <td>25.017461</td>\n",
       "      <td>24.306182</td>\n",
       "      <td>NaN</td>\n",
       "      <td>NaN</td>\n",
       "      <td>18.946509</td>\n",
       "      <td>21.198617</td>\n",
       "      <td>28.930222</td>\n",
       "      <td>25.255542</td>\n",
       "      <td>NaN</td>\n",
       "    </tr>\n",
       "    <tr>\n",
       "      <th>C3L-00589</th>\n",
       "      <td>Normal Adjacent Tissue</td>\n",
       "      <td>28.502926</td>\n",
       "      <td>25.717743</td>\n",
       "      <td>29.883149</td>\n",
       "      <td>NaN</td>\n",
       "      <td>NaN</td>\n",
       "      <td>NaN</td>\n",
       "      <td>23.046828</td>\n",
       "      <td>25.270276</td>\n",
       "      <td>25.790888</td>\n",
       "      <td>...</td>\n",
       "      <td>NaN</td>\n",
       "      <td>25.295479</td>\n",
       "      <td>24.091819</td>\n",
       "      <td>NaN</td>\n",
       "      <td>NaN</td>\n",
       "      <td>18.750975</td>\n",
       "      <td>20.866134</td>\n",
       "      <td>28.242476</td>\n",
       "      <td>26.168199</td>\n",
       "      <td>NaN</td>\n",
       "    </tr>\n",
       "    <tr>\n",
       "      <th>C3L-03123</th>\n",
       "      <td>Normal Adjacent Tissue</td>\n",
       "      <td>28.297751</td>\n",
       "      <td>24.580732</td>\n",
       "      <td>29.130757</td>\n",
       "      <td>NaN</td>\n",
       "      <td>NaN</td>\n",
       "      <td>NaN</td>\n",
       "      <td>22.625520</td>\n",
       "      <td>24.676915</td>\n",
       "      <td>23.268602</td>\n",
       "      <td>...</td>\n",
       "      <td>NaN</td>\n",
       "      <td>25.186219</td>\n",
       "      <td>23.137290</td>\n",
       "      <td>NaN</td>\n",
       "      <td>NaN</td>\n",
       "      <td>18.304164</td>\n",
       "      <td>21.223762</td>\n",
       "      <td>28.269888</td>\n",
       "      <td>25.257447</td>\n",
       "      <td>NaN</td>\n",
       "    </tr>\n",
       "    <tr>\n",
       "      <th>C3L-01687</th>\n",
       "      <td>Normal Adjacent Tissue</td>\n",
       "      <td>28.662810</td>\n",
       "      <td>25.795589</td>\n",
       "      <td>29.768221</td>\n",
       "      <td>NaN</td>\n",
       "      <td>NaN</td>\n",
       "      <td>NaN</td>\n",
       "      <td>23.093415</td>\n",
       "      <td>24.957128</td>\n",
       "      <td>24.926253</td>\n",
       "      <td>...</td>\n",
       "      <td>NaN</td>\n",
       "      <td>25.188314</td>\n",
       "      <td>24.046851</td>\n",
       "      <td>NaN</td>\n",
       "      <td>NaN</td>\n",
       "      <td>18.644933</td>\n",
       "      <td>21.022914</td>\n",
       "      <td>28.310557</td>\n",
       "      <td>25.858360</td>\n",
       "      <td>NaN</td>\n",
       "    </tr>\n",
       "    <tr>\n",
       "      <th>C3L-03123</th>\n",
       "      <td>Tumor</td>\n",
       "      <td>28.481919</td>\n",
       "      <td>23.815981</td>\n",
       "      <td>29.085915</td>\n",
       "      <td>NaN</td>\n",
       "      <td>NaN</td>\n",
       "      <td>NaN</td>\n",
       "      <td>23.336621</td>\n",
       "      <td>24.811962</td>\n",
       "      <td>22.560420</td>\n",
       "      <td>...</td>\n",
       "      <td>NaN</td>\n",
       "      <td>25.037140</td>\n",
       "      <td>23.892358</td>\n",
       "      <td>NaN</td>\n",
       "      <td>NaN</td>\n",
       "      <td>18.513350</td>\n",
       "      <td>21.160126</td>\n",
       "      <td>28.869091</td>\n",
       "      <td>25.144300</td>\n",
       "      <td>NaN</td>\n",
       "    </tr>\n",
       "  </tbody>\n",
       "</table>\n",
       "<p>5 rows × 12589 columns</p>\n",
       "</div>"
      ],
      "text/plain": [
       "                              Tumor/Normal        A1BG       A1CF        A2M  \\\n",
       "patientID-radiomics                                                            \n",
       "C3N-03884                             Tumor  28.424135  24.246165  29.366812   \n",
       "C3L-00589            Normal Adjacent Tissue  28.502926  25.717743  29.883149   \n",
       "C3L-03123            Normal Adjacent Tissue  28.297751  24.580732  29.130757   \n",
       "C3L-01687            Normal Adjacent Tissue  28.662810  25.795589  29.768221   \n",
       "C3L-03123                             Tumor  28.481919  23.815981  29.085915   \n",
       "\n",
       "                     A2ML1  A4GALT  A4GNT       AAAS       AACS      AADAC  \\\n",
       "patientID-radiomics                                                          \n",
       "C3N-03884              NaN     NaN    NaN  22.839828  24.662698  23.246860   \n",
       "C3L-00589              NaN     NaN    NaN  23.046828  25.270276  25.790888   \n",
       "C3L-03123              NaN     NaN    NaN  22.625520  24.676915  23.268602   \n",
       "C3L-01687              NaN     NaN    NaN  23.093415  24.957128  24.926253   \n",
       "C3L-03123              NaN     NaN    NaN  23.336621  24.811962  22.560420   \n",
       "\n",
       "                     ...  ZSWIM9       ZW10     ZWILCH  ZWINT  ZXDA  \\\n",
       "patientID-radiomics  ...                                              \n",
       "C3N-03884            ...     NaN  25.017461  24.306182    NaN   NaN   \n",
       "C3L-00589            ...     NaN  25.295479  24.091819    NaN   NaN   \n",
       "C3L-03123            ...     NaN  25.186219  23.137290    NaN   NaN   \n",
       "C3L-01687            ...     NaN  25.188314  24.046851    NaN   NaN   \n",
       "C3L-03123            ...     NaN  25.037140  23.892358    NaN   NaN   \n",
       "\n",
       "                          ZXDC     ZYG11B        ZYX      ZZEF1  ZZZ3  \n",
       "patientID-radiomics                                                    \n",
       "C3N-03884            18.946509  21.198617  28.930222  25.255542   NaN  \n",
       "C3L-00589            18.750975  20.866134  28.242476  26.168199   NaN  \n",
       "C3L-03123            18.304164  21.223762  28.269888  25.257447   NaN  \n",
       "C3L-01687            18.644933  21.022914  28.310557  25.858360   NaN  \n",
       "C3L-03123            18.513350  21.160126  28.869091  25.144300   NaN  \n",
       "\n",
       "[5 rows x 12589 columns]"
      ]
     },
     "execution_count": 4,
     "metadata": {},
     "output_type": "execute_result"
    }
   ],
   "source": [
    "proteomics = pd.read_csv(\"./input/proteomics.csv\").set_index(\"patientID-radiomics\", drop = True).drop(\"Withdrawn\", axis =1)\n",
    "proteomics.head(5)"
   ]
  },
  {
   "cell_type": "code",
   "execution_count": 5,
   "id": "2608c814",
   "metadata": {},
   "outputs": [],
   "source": [
    "x = proteomics.drop(\"Tumor/Normal \", axis = 1)\n",
    "y = proteomics[\"Tumor/Normal \"] == \"Tumor\""
   ]
  },
  {
   "cell_type": "code",
   "execution_count": 6,
   "id": "f536b0bb-5282-4daf-8344-e9f3598d6818",
   "metadata": {},
   "outputs": [
    {
     "data": {
      "text/html": [
       "<div>\n",
       "<style scoped>\n",
       "    .dataframe tbody tr th:only-of-type {\n",
       "        vertical-align: middle;\n",
       "    }\n",
       "\n",
       "    .dataframe tbody tr th {\n",
       "        vertical-align: top;\n",
       "    }\n",
       "\n",
       "    .dataframe thead th {\n",
       "        text-align: right;\n",
       "    }\n",
       "</style>\n",
       "<table border=\"1\" class=\"dataframe\">\n",
       "  <thead>\n",
       "    <tr style=\"text-align: right;\">\n",
       "      <th></th>\n",
       "      <th>A1BG</th>\n",
       "      <th>A1CF</th>\n",
       "      <th>A2M</th>\n",
       "      <th>A2ML1</th>\n",
       "      <th>A4GALT</th>\n",
       "      <th>A4GNT</th>\n",
       "      <th>AAAS</th>\n",
       "      <th>AACS</th>\n",
       "      <th>AADAC</th>\n",
       "      <th>AADAT</th>\n",
       "      <th>...</th>\n",
       "      <th>ZSWIM9</th>\n",
       "      <th>ZW10</th>\n",
       "      <th>ZWILCH</th>\n",
       "      <th>ZWINT</th>\n",
       "      <th>ZXDA</th>\n",
       "      <th>ZXDC</th>\n",
       "      <th>ZYG11B</th>\n",
       "      <th>ZYX</th>\n",
       "      <th>ZZEF1</th>\n",
       "      <th>ZZZ3</th>\n",
       "    </tr>\n",
       "    <tr>\n",
       "      <th>patientID-radiomics</th>\n",
       "      <th></th>\n",
       "      <th></th>\n",
       "      <th></th>\n",
       "      <th></th>\n",
       "      <th></th>\n",
       "      <th></th>\n",
       "      <th></th>\n",
       "      <th></th>\n",
       "      <th></th>\n",
       "      <th></th>\n",
       "      <th></th>\n",
       "      <th></th>\n",
       "      <th></th>\n",
       "      <th></th>\n",
       "      <th></th>\n",
       "      <th></th>\n",
       "      <th></th>\n",
       "      <th></th>\n",
       "      <th></th>\n",
       "      <th></th>\n",
       "      <th></th>\n",
       "    </tr>\n",
       "  </thead>\n",
       "  <tbody>\n",
       "    <tr>\n",
       "      <th>C3N-03884</th>\n",
       "      <td>28.424135</td>\n",
       "      <td>24.246165</td>\n",
       "      <td>29.366812</td>\n",
       "      <td>NaN</td>\n",
       "      <td>NaN</td>\n",
       "      <td>NaN</td>\n",
       "      <td>22.839828</td>\n",
       "      <td>24.662698</td>\n",
       "      <td>23.246860</td>\n",
       "      <td>NaN</td>\n",
       "      <td>...</td>\n",
       "      <td>NaN</td>\n",
       "      <td>25.017461</td>\n",
       "      <td>24.306182</td>\n",
       "      <td>NaN</td>\n",
       "      <td>NaN</td>\n",
       "      <td>18.946509</td>\n",
       "      <td>21.198617</td>\n",
       "      <td>28.930222</td>\n",
       "      <td>25.255542</td>\n",
       "      <td>NaN</td>\n",
       "    </tr>\n",
       "    <tr>\n",
       "      <th>C3L-00589</th>\n",
       "      <td>28.502926</td>\n",
       "      <td>25.717743</td>\n",
       "      <td>29.883149</td>\n",
       "      <td>NaN</td>\n",
       "      <td>NaN</td>\n",
       "      <td>NaN</td>\n",
       "      <td>23.046828</td>\n",
       "      <td>25.270276</td>\n",
       "      <td>25.790888</td>\n",
       "      <td>NaN</td>\n",
       "      <td>...</td>\n",
       "      <td>NaN</td>\n",
       "      <td>25.295479</td>\n",
       "      <td>24.091819</td>\n",
       "      <td>NaN</td>\n",
       "      <td>NaN</td>\n",
       "      <td>18.750975</td>\n",
       "      <td>20.866134</td>\n",
       "      <td>28.242476</td>\n",
       "      <td>26.168199</td>\n",
       "      <td>NaN</td>\n",
       "    </tr>\n",
       "    <tr>\n",
       "      <th>C3L-03123</th>\n",
       "      <td>28.297751</td>\n",
       "      <td>24.580732</td>\n",
       "      <td>29.130757</td>\n",
       "      <td>NaN</td>\n",
       "      <td>NaN</td>\n",
       "      <td>NaN</td>\n",
       "      <td>22.625520</td>\n",
       "      <td>24.676915</td>\n",
       "      <td>23.268602</td>\n",
       "      <td>NaN</td>\n",
       "      <td>...</td>\n",
       "      <td>NaN</td>\n",
       "      <td>25.186219</td>\n",
       "      <td>23.137290</td>\n",
       "      <td>NaN</td>\n",
       "      <td>NaN</td>\n",
       "      <td>18.304164</td>\n",
       "      <td>21.223762</td>\n",
       "      <td>28.269888</td>\n",
       "      <td>25.257447</td>\n",
       "      <td>NaN</td>\n",
       "    </tr>\n",
       "    <tr>\n",
       "      <th>C3L-01687</th>\n",
       "      <td>28.662810</td>\n",
       "      <td>25.795589</td>\n",
       "      <td>29.768221</td>\n",
       "      <td>NaN</td>\n",
       "      <td>NaN</td>\n",
       "      <td>NaN</td>\n",
       "      <td>23.093415</td>\n",
       "      <td>24.957128</td>\n",
       "      <td>24.926253</td>\n",
       "      <td>NaN</td>\n",
       "      <td>...</td>\n",
       "      <td>NaN</td>\n",
       "      <td>25.188314</td>\n",
       "      <td>24.046851</td>\n",
       "      <td>NaN</td>\n",
       "      <td>NaN</td>\n",
       "      <td>18.644933</td>\n",
       "      <td>21.022914</td>\n",
       "      <td>28.310557</td>\n",
       "      <td>25.858360</td>\n",
       "      <td>NaN</td>\n",
       "    </tr>\n",
       "    <tr>\n",
       "      <th>C3L-03123</th>\n",
       "      <td>28.481919</td>\n",
       "      <td>23.815981</td>\n",
       "      <td>29.085915</td>\n",
       "      <td>NaN</td>\n",
       "      <td>NaN</td>\n",
       "      <td>NaN</td>\n",
       "      <td>23.336621</td>\n",
       "      <td>24.811962</td>\n",
       "      <td>22.560420</td>\n",
       "      <td>NaN</td>\n",
       "      <td>...</td>\n",
       "      <td>NaN</td>\n",
       "      <td>25.037140</td>\n",
       "      <td>23.892358</td>\n",
       "      <td>NaN</td>\n",
       "      <td>NaN</td>\n",
       "      <td>18.513350</td>\n",
       "      <td>21.160126</td>\n",
       "      <td>28.869091</td>\n",
       "      <td>25.144300</td>\n",
       "      <td>NaN</td>\n",
       "    </tr>\n",
       "  </tbody>\n",
       "</table>\n",
       "<p>5 rows × 12588 columns</p>\n",
       "</div>"
      ],
      "text/plain": [
       "                          A1BG       A1CF        A2M  A2ML1  A4GALT  A4GNT  \\\n",
       "patientID-radiomics                                                          \n",
       "C3N-03884            28.424135  24.246165  29.366812    NaN     NaN    NaN   \n",
       "C3L-00589            28.502926  25.717743  29.883149    NaN     NaN    NaN   \n",
       "C3L-03123            28.297751  24.580732  29.130757    NaN     NaN    NaN   \n",
       "C3L-01687            28.662810  25.795589  29.768221    NaN     NaN    NaN   \n",
       "C3L-03123            28.481919  23.815981  29.085915    NaN     NaN    NaN   \n",
       "\n",
       "                          AAAS       AACS      AADAC  AADAT  ...  ZSWIM9  \\\n",
       "patientID-radiomics                                          ...           \n",
       "C3N-03884            22.839828  24.662698  23.246860    NaN  ...     NaN   \n",
       "C3L-00589            23.046828  25.270276  25.790888    NaN  ...     NaN   \n",
       "C3L-03123            22.625520  24.676915  23.268602    NaN  ...     NaN   \n",
       "C3L-01687            23.093415  24.957128  24.926253    NaN  ...     NaN   \n",
       "C3L-03123            23.336621  24.811962  22.560420    NaN  ...     NaN   \n",
       "\n",
       "                          ZW10     ZWILCH  ZWINT  ZXDA       ZXDC     ZYG11B  \\\n",
       "patientID-radiomics                                                            \n",
       "C3N-03884            25.017461  24.306182    NaN   NaN  18.946509  21.198617   \n",
       "C3L-00589            25.295479  24.091819    NaN   NaN  18.750975  20.866134   \n",
       "C3L-03123            25.186219  23.137290    NaN   NaN  18.304164  21.223762   \n",
       "C3L-01687            25.188314  24.046851    NaN   NaN  18.644933  21.022914   \n",
       "C3L-03123            25.037140  23.892358    NaN   NaN  18.513350  21.160126   \n",
       "\n",
       "                           ZYX      ZZEF1  ZZZ3  \n",
       "patientID-radiomics                              \n",
       "C3N-03884            28.930222  25.255542   NaN  \n",
       "C3L-00589            28.242476  26.168199   NaN  \n",
       "C3L-03123            28.269888  25.257447   NaN  \n",
       "C3L-01687            28.310557  25.858360   NaN  \n",
       "C3L-03123            28.869091  25.144300   NaN  \n",
       "\n",
       "[5 rows x 12588 columns]"
      ]
     },
     "execution_count": 6,
     "metadata": {},
     "output_type": "execute_result"
    }
   ],
   "source": [
    "x.head(5)"
   ]
  },
  {
   "cell_type": "code",
   "execution_count": 7,
   "id": "d87c6f1e",
   "metadata": {},
   "outputs": [
    {
     "data": {
      "text/plain": [
       "patientID-radiomics\n",
       "C3N-03884     True\n",
       "C3L-00589    False\n",
       "C3L-03123    False\n",
       "C3L-01687    False\n",
       "C3L-03123     True\n",
       "Name: Tumor/Normal , dtype: bool"
      ]
     },
     "execution_count": 7,
     "metadata": {},
     "output_type": "execute_result"
    }
   ],
   "source": [
    "y.head(5)"
   ]
  },
  {
   "cell_type": "markdown",
   "id": "a39168ee",
   "metadata": {},
   "source": [
    "# Preprocessing"
   ]
  },
  {
   "cell_type": "markdown",
   "id": "45c5f3af",
   "metadata": {},
   "source": [
    "### Impute"
   ]
  },
  {
   "cell_type": "code",
   "execution_count": 8,
   "id": "5a03c0a8",
   "metadata": {},
   "outputs": [],
   "source": [
    "from package.preprocessing import impute, bagging"
   ]
  },
  {
   "cell_type": "raw",
   "id": "52cf1f44",
   "metadata": {},
   "source": [
    "knn_imputer(\n",
    "    threshold : float from (0, 1]   # if feature missing rate > threshold, then\n",
    "                                    # drop the feature.\n",
    "    n_neighbor : int > 0            # number of neighbor for imputing.\n",
    ")\n",
    "\n",
    "simple_imputer(\n",
    "    threshold : float from (0, 1]   # if feature missing rate > threshold, then\n",
    "                                    # drop the feature.\n",
    "    strategy : [\"median\", \"mean\"]   # method to impute the feature.\n",
    ")"
   ]
  },
  {
   "cell_type": "code",
   "execution_count": 9,
   "id": "f42d1ccb",
   "metadata": {},
   "outputs": [],
   "source": [
    "simple = impute.simple_imputer(threshold = 0.3333, strategy = \"median\")\n",
    "simple.fit_transform(x, y)\n",
    "\n",
    "knn = impute.knn_imputer(threshold = 0.3333, n_neighbor = 5)\n",
    "x, y = knn.fit_transform(x, y)"
   ]
  },
  {
   "cell_type": "markdown",
   "id": "425e4cf6",
   "metadata": {},
   "source": [
    "### Bagging"
   ]
  },
  {
   "cell_type": "code",
   "execution_count": 10,
   "id": "856c6ec0",
   "metadata": {},
   "outputs": [],
   "source": [
    "bagger = bagging.bagger()\n",
    "x, y = bagger.fit_transform(x, y)"
   ]
  },
  {
   "cell_type": "code",
   "execution_count": 11,
   "id": "81d2ee71",
   "metadata": {},
   "outputs": [
    {
     "data": {
      "text/plain": [
       "['AAMP']"
      ]
     },
     "execution_count": 11,
     "metadata": {},
     "output_type": "execute_result"
    }
   ],
   "source": [
    "bagger.see(\"AAMP\") # AAMP is a feature"
   ]
  },
  {
   "cell_type": "code",
   "execution_count": 12,
   "id": "4f465a3b",
   "metadata": {},
   "outputs": [],
   "source": [
    "bagger.see(\"AA\")   # no AA but some other feature start with AA"
   ]
  },
  {
   "cell_type": "code",
   "execution_count": 13,
   "id": "7af44fc7",
   "metadata": {},
   "outputs": [
    {
     "data": {
      "text/plain": [
       "['AAAS',\n",
       " 'AACS',\n",
       " 'AADAC',\n",
       " 'AAGAB',\n",
       " 'AAK1',\n",
       " 'AAMP',\n",
       " 'AAMDC',\n",
       " 'AAR2',\n",
       " 'AARS1',\n",
       " 'AARS2',\n",
       " 'AARSD1',\n",
       " 'AASS',\n",
       " 'AASDHPPT',\n",
       " 'AATF']"
      ]
     },
     "execution_count": 13,
     "metadata": {},
     "output_type": "execute_result"
    }
   ],
   "source": [
    "bagger.see(\"AA*\")  # * can list all features start with ZN"
   ]
  },
  {
   "cell_type": "code",
   "execution_count": 14,
   "id": "c213d8a5",
   "metadata": {},
   "outputs": [
    {
     "name": "stdout",
     "output_type": "stream",
     "text": [
      "ERROR is not a feature in x, it will raise an error\n"
     ]
    }
   ],
   "source": [
    "try:\n",
    "    bagger.see(\"ERROR\")\n",
    "except:\n",
    "    print(\"ERROR is not a feature in x, it will raise an error\")"
   ]
  },
  {
   "cell_type": "markdown",
   "id": "ea9ff678",
   "metadata": {},
   "source": [
    "# Feature selection"
   ]
  },
  {
   "cell_type": "code",
   "execution_count": 15,
   "id": "ebee9752",
   "metadata": {},
   "outputs": [],
   "source": [
    "from package.selection.ensemble import selector"
   ]
  },
  {
   "cell_type": "code",
   "execution_count": 16,
   "id": "1da74543",
   "metadata": {},
   "outputs": [
    {
     "name": "stdout",
     "output_type": "stream",
     "text": [
      "Using  id3  to select.\n"
     ]
    },
    {
     "name": "stderr",
     "output_type": "stream",
     "text": [
      "100%|█████████████████████████████████████████████████████████████████████████████| 9007/9007 [00:18<00:00, 484.34it/s]\n"
     ]
    },
    {
     "name": "stdout",
     "output_type": "stream",
     "text": [
      "id3  is done.\n",
      "Using  c45  to select.\n"
     ]
    },
    {
     "name": "stderr",
     "output_type": "stream",
     "text": [
      "100%|█████████████████████████████████████████████████████████████████████████████| 9007/9007 [00:22<00:00, 393.45it/s]\n"
     ]
    },
    {
     "name": "stdout",
     "output_type": "stream",
     "text": [
      "c45  is done.\n",
      "Using  RF_gini  to select.\n",
      "I don't have a progress bar but I am running\n",
      "RF_gini  is done.\n",
      "Using  RF_etropy  to select.\n",
      "I don't have a progress bar but I am running\n",
      "RF_etropy  is done.\n",
      "Using  Lasso  to select.\n"
     ]
    },
    {
     "name": "stderr",
     "output_type": "stream",
     "text": [
      "C:\\Users\\USER\\.virtualenvs\\home-DQFriWFx\\lib\\site-packages\\sklearn\\linear_model\\_coordinate_descent.py:678: ConvergenceWarning: Objective did not converge. You might want to increase the number of iterations, check the scale of the features or consider increasing regularisation. Duality gap: 9.113e-02, tolerance: 5.950e-03\n",
      "  model = cd_fast.enet_coordinate_descent(\n"
     ]
    },
    {
     "name": "stdout",
     "output_type": "stream",
     "text": [
      "Lasso  is done.\n",
      "Using  multi_Lasso  to select.\n"
     ]
    },
    {
     "name": "stderr",
     "output_type": "stream",
     "text": [
      "C:\\Users\\USER\\.virtualenvs\\home-DQFriWFx\\lib\\site-packages\\sklearn\\linear_model\\_coordinate_descent.py:678: ConvergenceWarning: Objective did not converge. You might want to increase the number of iterations, check the scale of the features or consider increasing regularisation. Duality gap: 9.113e-02, tolerance: 5.950e-03\n",
      "  model = cd_fast.enet_coordinate_descent(\n",
      "C:\\Users\\USER\\.virtualenvs\\home-DQFriWFx\\lib\\site-packages\\sklearn\\linear_model\\_coordinate_descent.py:678: ConvergenceWarning: Objective did not converge. You might want to increase the number of iterations, check the scale of the features or consider increasing regularisation. Duality gap: 9.114e-02, tolerance: 5.950e-03\n",
      "  model = cd_fast.enet_coordinate_descent(\n",
      "C:\\Users\\USER\\.virtualenvs\\home-DQFriWFx\\lib\\site-packages\\sklearn\\linear_model\\_coordinate_descent.py:678: ConvergenceWarning: Objective did not converge. You might want to increase the number of iterations, check the scale of the features or consider increasing regularisation. Duality gap: 8.983e-02, tolerance: 5.950e-03\n",
      "  model = cd_fast.enet_coordinate_descent(\n",
      "C:\\Users\\USER\\.virtualenvs\\home-DQFriWFx\\lib\\site-packages\\sklearn\\linear_model\\_coordinate_descent.py:678: ConvergenceWarning: Objective did not converge. You might want to increase the number of iterations, check the scale of the features or consider increasing regularisation. Duality gap: 1.052e-01, tolerance: 5.950e-03\n",
      "  model = cd_fast.enet_coordinate_descent(\n"
     ]
    },
    {
     "name": "stdout",
     "output_type": "stream",
     "text": [
      "multi_Lasso  is done.\n",
      "Using  SVM  to select.\n",
      "SVM  is done.\n",
      "Using  multi_SVM  to select.\n",
      "multi_SVM  is done.\n",
      "Using  Volcano_p  to select.\n",
      "t statistic:  3.7550495458165534e-05 4.821405645073523 19.087015468196793\n",
      "degree of freedom:  100.87701494257054 162.03222993667953 235.99995058522256\n",
      "Volcano_p  is done.\n",
      "Using  Volcano_fold  to select.\n",
      "t statistic:  3.7550495458165534e-05 4.821405645073523 19.087015468196793\n",
      "degree of freedom:  100.87701494257054 162.03222993667953 235.99995058522256\n",
      "Volcano_fold  is done.\n"
     ]
    }
   ],
   "source": [
    "important_feature, importance = selector().select(x, y, 20)"
   ]
  },
  {
   "cell_type": "markdown",
   "id": "f72eeb15",
   "metadata": {},
   "source": [
    "# Output"
   ]
  },
  {
   "cell_type": "code",
   "execution_count": 17,
   "id": "1d0ad717",
   "metadata": {},
   "outputs": [],
   "source": [
    "# unbagging\n",
    "important_feature = important_feature.map(bagger.unbagging) "
   ]
  },
  {
   "cell_type": "code",
   "execution_count": 18,
   "id": "1723e9e6",
   "metadata": {},
   "outputs": [],
   "source": [
    "important_feature.to_csv(\"./output/\"+export_title+ \" important feature.csv\")"
   ]
  },
  {
   "cell_type": "code",
   "execution_count": 19,
   "id": "2cde8b5f",
   "metadata": {},
   "outputs": [],
   "source": [
    "importance.to_csv(\"./output/\"+export_title+ \" importance.csv\")"
   ]
  }
 ],
 "metadata": {
  "kernelspec": {
   "display_name": "Python 3 (ipykernel)",
   "language": "python",
   "name": "python3"
  },
  "language_info": {
   "codemirror_mode": {
    "name": "ipython",
    "version": 3
   },
   "file_extension": ".py",
   "mimetype": "text/x-python",
   "name": "python",
   "nbconvert_exporter": "python",
   "pygments_lexer": "ipython3",
   "version": "3.9.13"
  }
 },
 "nbformat": 4,
 "nbformat_minor": 5
}
