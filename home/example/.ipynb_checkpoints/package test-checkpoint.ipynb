{
 "cells": [
  {
   "cell_type": "code",
   "execution_count": 1,
   "id": "473c9584",
   "metadata": {},
   "outputs": [],
   "source": [
    "import pandas as pd\n",
    "import os "
   ]
  },
  {
   "cell_type": "code",
   "execution_count": 7,
   "id": "c8bb4226",
   "metadata": {},
   "outputs": [
    {
     "ename": "ImportError",
     "evalue": "attempted relative import with no known parent package",
     "output_type": "error",
     "traceback": [
      "\u001b[1;31m---------------------------------------------------------------------------\u001b[0m",
      "\u001b[1;31mImportError\u001b[0m                               Traceback (most recent call last)",
      "Cell \u001b[1;32mIn[7], line 1\u001b[0m\n\u001b[1;32m----> 1\u001b[0m \u001b[38;5;28;01mfrom\u001b[39;00m \u001b[38;5;21;01m.\u001b[39;00m\u001b[38;5;21;01m.\u001b[39;00m \u001b[38;5;28;01mimport\u001b[39;00m package\n",
      "\u001b[1;31mImportError\u001b[0m: attempted relative import with no known parent package"
     ]
    }
   ],
   "source": [
    "import package"
   ]
  },
  {
   "cell_type": "code",
   "execution_count": null,
   "id": "de39a642",
   "metadata": {},
   "outputs": [],
   "source": [
    "export_title = \"bagged log \""
   ]
  },
  {
   "cell_type": "markdown",
   "id": "2b51ce99",
   "metadata": {},
   "source": [
    "# IO"
   ]
  },
  {
   "cell_type": "code",
   "execution_count": null,
   "id": "864aac99",
   "metadata": {},
   "outputs": [],
   "source": [
    "proteomics = pd.read_csv(\"./input/proteomics.csv\").set_index(\"patientID-radiomics\", drop = True).drop(\"Withdrawn\", axis =1)\n",
    "proteomics.head(5)"
   ]
  },
  {
   "cell_type": "code",
   "execution_count": null,
   "id": "2608c814",
   "metadata": {},
   "outputs": [],
   "source": [
    "x = proteomics.drop(\"Tumor/Normal \", axis = 1)\n",
    "y = proteomics[\"Tumor/Normal \"] == \"Tumor\"\n",
    "x.head(5)"
   ]
  },
  {
   "cell_type": "code",
   "execution_count": null,
   "id": "d87c6f1e",
   "metadata": {},
   "outputs": [],
   "source": [
    "y.head(5)"
   ]
  },
  {
   "cell_type": "markdown",
   "id": "a39168ee",
   "metadata": {},
   "source": [
    "# Preprocessing"
   ]
  },
  {
   "cell_type": "markdown",
   "id": "45c5f3af",
   "metadata": {},
   "source": [
    "### Impute"
   ]
  },
  {
   "cell_type": "code",
   "execution_count": null,
   "id": "5a03c0a8",
   "metadata": {},
   "outputs": [],
   "source": [
    "from package.preprocessing import impute, bagging"
   ]
  },
  {
   "cell_type": "raw",
   "id": "52cf1f44",
   "metadata": {},
   "source": [
    "knn_imputer(\n",
    "    threshold : float from (0, 1]   # if feature missing rate > threshold, then\n",
    "                                    # drop the feature.\n",
    "    n_neighbor : int > 0            # number of neighbor for imputing.\n",
    ")\n",
    "\n",
    "simple_imputer(\n",
    "    threshold : float from (0, 1]   # if feature missing rate > threshold, then\n",
    "                                    # drop the feature.\n",
    "    strategy : [\"median\", \"mean\"]   # method to impute the feature.\n",
    ")"
   ]
  },
  {
   "cell_type": "code",
   "execution_count": null,
   "id": "f42d1ccb",
   "metadata": {},
   "outputs": [],
   "source": [
    "simple = impute.simple_imputer(threshold = 0.3333, strategy = \"median\")\n",
    "simple.fit_transform(x, y)\n",
    "\n",
    "knn = impute.knn_imputer(threshold = 0.3333, n_neighbor = 5)\n",
    "x, y = knn.fit_transform(x, y)"
   ]
  },
  {
   "cell_type": "markdown",
   "id": "425e4cf6",
   "metadata": {},
   "source": [
    "### Bagging"
   ]
  },
  {
   "cell_type": "code",
   "execution_count": null,
   "id": "856c6ec0",
   "metadata": {},
   "outputs": [],
   "source": [
    "bagger = bagging.bagger()\n",
    "x, y = bagger.fit_transform(x, y)"
   ]
  },
  {
   "cell_type": "code",
   "execution_count": null,
   "id": "81d2ee71",
   "metadata": {},
   "outputs": [],
   "source": [
    "bagger.see(\"AAMP\") # AAMP is a feature"
   ]
  },
  {
   "cell_type": "code",
   "execution_count": null,
   "id": "4f465a3b",
   "metadata": {},
   "outputs": [],
   "source": [
    "bagger.see(\"AA\")   # no AA but some other feature start with AA"
   ]
  },
  {
   "cell_type": "code",
   "execution_count": null,
   "id": "7af44fc7",
   "metadata": {},
   "outputs": [],
   "source": [
    "bagger.see(\"AA*\")  # * can list all features start with ZN"
   ]
  },
  {
   "cell_type": "code",
   "execution_count": null,
   "id": "c213d8a5",
   "metadata": {},
   "outputs": [],
   "source": [
    "try:\n",
    "    bagger.see(\"ERROR\")\n",
    "except:\n",
    "    print(\"ERROR is not a feature in x, it will raise an error\")"
   ]
  },
  {
   "cell_type": "markdown",
   "id": "ea9ff678",
   "metadata": {},
   "source": [
    "# Feature selection"
   ]
  },
  {
   "cell_type": "code",
   "execution_count": null,
   "id": "ebee9752",
   "metadata": {},
   "outputs": [],
   "source": [
    "from package.selection.ensemble import selector"
   ]
  },
  {
   "cell_type": "code",
   "execution_count": null,
   "id": "1da74543",
   "metadata": {},
   "outputs": [],
   "source": [
    "important_feature, importance = selector().select(x, y, 20)"
   ]
  },
  {
   "cell_type": "markdown",
   "id": "f72eeb15",
   "metadata": {},
   "source": [
    "# Output"
   ]
  },
  {
   "cell_type": "code",
   "execution_count": null,
   "id": "1d0ad717",
   "metadata": {},
   "outputs": [],
   "source": [
    "# unbagging\n",
    "important_feature = important_feature.map(bagger.unbagging) "
   ]
  },
  {
   "cell_type": "code",
   "execution_count": null,
   "id": "1723e9e6",
   "metadata": {},
   "outputs": [],
   "source": [
    "important_feature.to_csv(\"./output/\"+export_title+ \" important feature.csv\")"
   ]
  },
  {
   "cell_type": "code",
   "execution_count": null,
   "id": "2cde8b5f",
   "metadata": {},
   "outputs": [],
   "source": [
    "importance.to_csv(\"./output/\"+export_title+ \" importance.csv\")"
   ]
  }
 ],
 "metadata": {
  "kernelspec": {
   "display_name": "Python 3 (ipykernel)",
   "language": "python",
   "name": "python3"
  },
  "language_info": {
   "codemirror_mode": {
    "name": "ipython",
    "version": 3
   },
   "file_extension": ".py",
   "mimetype": "text/x-python",
   "name": "python",
   "nbconvert_exporter": "python",
   "pygments_lexer": "ipython3",
   "version": "3.9.13"
  }
 },
 "nbformat": 4,
 "nbformat_minor": 5
}
