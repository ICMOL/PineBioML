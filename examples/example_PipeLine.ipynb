{
 "cells": [
  {
   "cell_type": "markdown",
   "id": "2b51ce99",
   "metadata": {},
   "source": [
    "# IO"
   ]
  },
  {
   "cell_type": "code",
   "execution_count": null,
   "id": "8f0fb1d1",
   "metadata": {},
   "outputs": [],
   "source": [
    "import PineBioML.IO as IO"
   ]
  },
  {
   "cell_type": "code",
   "execution_count": null,
   "id": "ed752486",
   "metadata": {},
   "outputs": [],
   "source": [
    "# example_PipeLine.py ./input/ example_data.xlsx 0 y\n",
    "\n",
    "data = IO.read_file(\"./input/HAPTdata.csv\", index_col=None)\n",
    "\n",
    "##### pick the target label column\n",
    "y = data[\"target\"]\n",
    "\n",
    "##### drop the target from dataframe, using the remaining to predict y (the target)\n",
    "x = data.drop(\"target\", axis = 1)"
   ]
  },
  {
   "cell_type": "markdown",
   "id": "2e571d75",
   "metadata": {},
   "source": [
    "# Train test split"
   ]
  },
  {
   "cell_type": "code",
   "execution_count": null,
   "id": "c9528af9",
   "metadata": {},
   "outputs": [],
   "source": [
    "from sklearn.model_selection import train_test_split\n",
    "x_train, x_valid, y_train, y_valid = train_test_split(x, y, test_size=0.33, random_state=142, shuffle=True)"
   ]
  },
  {
   "cell_type": "markdown",
   "id": "5584f9c7",
   "metadata": {},
   "source": [
    "# Data Overview"
   ]
  },
  {
   "cell_type": "code",
   "execution_count": null,
   "id": "d0896f29",
   "metadata": {},
   "outputs": [],
   "source": [
    "from PineBioML.report.utils import data_overview\n",
    "data_overview(x_train, y_train, show_fig = True)"
   ]
  },
  {
   "cell_type": "markdown",
   "id": "bc55e727",
   "metadata": {},
   "source": [
    "# Modeling"
   ]
  },
  {
   "cell_type": "code",
   "execution_count": null,
   "id": "ceff71dd",
   "metadata": {},
   "outputs": [],
   "source": [
    "from PineBioML.preprocessing import Normalizer\n",
    "from PineBioML.preprocessing import impute\n",
    "from PineBioML.selection.classification import essemble_selector\n",
    "import PineBioML.model.supervised.Classification as tuner\n",
    "from sklearn.pipeline import Pipeline"
   ]
  },
  {
   "cell_type": "code",
   "execution_count": null,
   "id": "05e8b7db",
   "metadata": {},
   "outputs": [],
   "source": [
    "pipe = Pipeline(\n",
    "    [\n",
    "        (\"Standarization\", Normalizer(method=\"StandardScaler\")),\n",
    "        (\"Missing_Value_Processing\", impute.simple_imputer(threshold = 0.6, strategy = \"constant\")),\n",
    "        (\"Feature_Selection\", essemble_selector(z_importance_threshold = 1)),\n",
    "        (\"Modeling\", tuner.RandomForest_tuner(target=\"qwk\"))\n",
    "     ]\n",
    ")"
   ]
  },
  {
   "cell_type": "code",
   "execution_count": null,
   "id": "411ae25d",
   "metadata": {},
   "outputs": [],
   "source": [
    "pipe.fit(x_train, y_train)"
   ]
  },
  {
   "cell_type": "markdown",
   "id": "96dae9a1",
   "metadata": {},
   "source": [
    "# Evaluation"
   ]
  },
  {
   "cell_type": "code",
   "execution_count": null,
   "id": "00b8b54a",
   "metadata": {},
   "outputs": [],
   "source": [
    "from PineBioML.report.utils import classification_summary\n",
    "\n",
    "classification_summary(y_valid, pipe.predict_proba(x_valid), show_fig=False)"
   ]
  },
  {
   "cell_type": "markdown",
   "id": "db80c1c5",
   "metadata": {},
   "source": [
    "# Saving Model"
   ]
  },
  {
   "cell_type": "code",
   "execution_count": null,
   "id": "05a16d7b",
   "metadata": {},
   "outputs": [],
   "source": [
    "# save model\n",
    "IO.save_model(pipe, \"./output/models/\", \"MostInOne\", overide=True)"
   ]
  },
  {
   "cell_type": "markdown",
   "id": "8febcdc8",
   "metadata": {},
   "source": [
    "# Reload model"
   ]
  },
  {
   "cell_type": "code",
   "execution_count": null,
   "id": "9ef10866",
   "metadata": {},
   "outputs": [],
   "source": [
    "# load model\n",
    "presaved_model = IO.load_model(\"./output/models/MostInOne\")"
   ]
  },
  {
   "cell_type": "code",
   "execution_count": null,
   "id": "c6e8fb37",
   "metadata": {},
   "outputs": [],
   "source": [
    "classification_summary(y_valid, presaved_model.predict_proba(x_valid)) "
   ]
  }
 ],
 "metadata": {
  "kernelspec": {
   "display_name": "Python 3",
   "language": "python",
   "name": "python3"
  },
  "language_info": {
   "codemirror_mode": {
    "name": "ipython",
    "version": 3
   },
   "file_extension": ".py",
   "mimetype": "text/x-python",
   "name": "python",
   "nbconvert_exporter": "python",
   "pygments_lexer": "ipython3",
   "version": "3.9.13"
  }
 },
 "nbformat": 4,
 "nbformat_minor": 5
}
