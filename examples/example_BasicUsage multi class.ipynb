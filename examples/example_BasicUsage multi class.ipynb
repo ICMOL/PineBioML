{
 "cells": [
  {
   "cell_type": "markdown",
   "id": "2b51ce99",
   "metadata": {},
   "source": [
    "# IO"
   ]
  },
  {
   "cell_type": "code",
   "execution_count": null,
   "id": "8f0fb1d1",
   "metadata": {},
   "outputs": [],
   "source": [
    "from PineBioML import IO"
   ]
  },
  {
   "cell_type": "code",
   "execution_count": null,
   "id": "0f94a0ae",
   "metadata": {},
   "outputs": [],
   "source": [
    "# Path\n",
    "input_folder = \"./input/\"\n",
    "output_folder = \"./output/\"\n",
    "export_title = \"example_basic \""
   ]
  },
  {
   "cell_type": "code",
   "execution_count": null,
   "id": "864aac99",
   "metadata": {},
   "outputs": [],
   "source": [
    "##### Read data method 1: read single file\n",
    "##### index_col is the column of index of samples (or sample name).\n",
    "##### If your data do not have such column, please set index_col=None\n",
    "data = IO.read_file(input_folder+ \"HAPTdata.csv\", index_col=None)\n",
    "\n",
    "##### pick the target label column\n",
    "y = data[\"target\"]\n",
    "\n",
    "##### drop the target from dataframe, using the remaining to predict y (the target)\n",
    "x = data.drop(\"target\", axis = 1)"
   ]
  },
  {
   "cell_type": "code",
   "execution_count": null,
   "id": "e4a7a657",
   "metadata": {},
   "outputs": [],
   "source": [
    "x.head(5)"
   ]
  },
  {
   "cell_type": "code",
   "execution_count": null,
   "id": "0fd82811",
   "metadata": {},
   "outputs": [],
   "source": [
    "y.value_counts()"
   ]
  },
  {
   "cell_type": "markdown",
   "id": "2e571d75",
   "metadata": {},
   "source": [
    "# Preprocessing"
   ]
  },
  {
   "cell_type": "code",
   "execution_count": null,
   "id": "ceff71dd",
   "metadata": {},
   "outputs": [],
   "source": [
    "from PineBioML.preprocessing import Normalizer\n",
    "\n",
    "x = Normalizer(method=\"StandardScaler\").fit_transform(x)"
   ]
  },
  {
   "cell_type": "code",
   "execution_count": null,
   "id": "f42d1ccb",
   "metadata": {},
   "outputs": [],
   "source": [
    "from PineBioML.preprocessing import impute\n",
    "\n",
    "# The imputer will drop the features within which more than 60% of values are unkown.\n",
    "# Remaining will be filled by 0.\n",
    "simple = impute.simple_imputer(threshold = 0.6, strategy = \"constant\")\n",
    "x = simple.fit_transform(x)"
   ]
  },
  {
   "cell_type": "markdown",
   "id": "b854998c",
   "metadata": {},
   "source": [
    "# Data overview"
   ]
  },
  {
   "cell_type": "code",
   "execution_count": null,
   "id": "0dcf9fc0",
   "metadata": {},
   "outputs": [],
   "source": [
    "import PineBioML.report.utils as report_utils"
   ]
  },
  {
   "cell_type": "code",
   "execution_count": null,
   "id": "a4345f62",
   "metadata": {},
   "outputs": [],
   "source": [
    "report_utils.data_overview(x, y, is_classification=True, prefix=\"Original Data\", save_fig=True, save_path=\"./output/images/\", show_fig=True)"
   ]
  },
  {
   "cell_type": "markdown",
   "id": "ea9ff678",
   "metadata": {},
   "source": [
    "# Feature selection"
   ]
  },
  {
   "cell_type": "code",
   "execution_count": null,
   "id": "ebee9752",
   "metadata": {},
   "outputs": [],
   "source": [
    "from PineBioML.selection.classification import essemble_selector"
   ]
  },
  {
   "cell_type": "code",
   "execution_count": null,
   "id": "1da74543",
   "metadata": {},
   "outputs": [],
   "source": [
    "# Use several way to select top-k important features, which includes decision tree, random forest, lasso, multi lasso, svm, adaboost, xgboost\n",
    "ensemble_selector = essemble_selector(k = 10)\n",
    "important_feature, importance = ensemble_selector.Select(x, y) # if k = -1, it returns all the feature scores"
   ]
  },
  {
   "cell_type": "code",
   "execution_count": null,
   "id": "8c94fe35",
   "metadata": {},
   "outputs": [],
   "source": [
    "# The features that was selected by ML algoritms.\n",
    "important_feature"
   ]
  },
  {
   "cell_type": "code",
   "execution_count": null,
   "id": "d88eda78",
   "metadata": {},
   "outputs": [],
   "source": [
    "# The feature importance given by diffirent methods.\n",
    "# Please Notice that the score between diffirent methods is not comparable.\n",
    "importance"
   ]
  },
  {
   "cell_type": "code",
   "execution_count": null,
   "id": "8dbaf676",
   "metadata": {},
   "outputs": [],
   "source": [
    "x = ensemble_selector.transform(x)"
   ]
  },
  {
   "cell_type": "markdown",
   "id": "28284af4",
   "metadata": {},
   "source": [
    "# Modeling"
   ]
  },
  {
   "cell_type": "markdown",
   "id": "aa912f13",
   "metadata": {},
   "source": [
    "### Train test split"
   ]
  },
  {
   "cell_type": "code",
   "execution_count": null,
   "id": "c9528af9",
   "metadata": {},
   "outputs": [],
   "source": [
    "from sklearn.model_selection import train_test_split\n",
    "\n",
    "x_train, x_valid, y_train, y_valid = train_test_split(x, y, test_size=0.33, random_state=142, shuffle=True, stratify=y)"
   ]
  },
  {
   "cell_type": "markdown",
   "id": "5c2a1ab3",
   "metadata": {},
   "source": [
    "### Tuning a model"
   ]
  },
  {
   "cell_type": "code",
   "execution_count": null,
   "id": "2ab9576c",
   "metadata": {},
   "outputs": [],
   "source": [
    "import PineBioML.model.supervised.Classification as tuner"
   ]
  },
  {
   "cell_type": "code",
   "execution_count": null,
   "id": "efcf22ef",
   "metadata": {},
   "outputs": [],
   "source": [
    "svm = tuner.SVM_tuner(target=\"qwk\", kernel_seed=11, valid_seed = 222, optuna_seed = 3333).fit(x_train, y_train)"
   ]
  },
  {
   "cell_type": "code",
   "execution_count": null,
   "id": "e286da3b",
   "metadata": {},
   "outputs": [],
   "source": [
    "svm.plot()"
   ]
  },
  {
   "cell_type": "code",
   "execution_count": null,
   "id": "d6f9ce76",
   "metadata": {},
   "outputs": [],
   "source": [
    "svm.reference()"
   ]
  },
  {
   "cell_type": "code",
   "execution_count": null,
   "id": "c4e88185",
   "metadata": {},
   "outputs": [],
   "source": [
    "report_utils.classification_summary(y_valid, svm.predict_proba(x_valid))"
   ]
  }
 ],
 "metadata": {
  "kernelspec": {
   "display_name": ".venv",
   "language": "python",
   "name": "python3"
  },
  "language_info": {
   "codemirror_mode": {
    "name": "ipython",
    "version": 3
   },
   "file_extension": ".py",
   "mimetype": "text/x-python",
   "name": "python",
   "nbconvert_exporter": "python",
   "pygments_lexer": "ipython3",
   "version": "3.11.9"
  }
 },
 "nbformat": 4,
 "nbformat_minor": 5
}
