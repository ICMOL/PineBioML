{
 "cells": [
  {
   "cell_type": "markdown",
   "id": "0974a802",
   "metadata": {},
   "source": [
    "from sklearnex import patch_sklearn\n",
    "patch_sklearn()"
   ]
  },
  {
   "cell_type": "markdown",
   "id": "a4676ad0",
   "metadata": {},
   "source": [
    "# IO"
   ]
  },
  {
   "cell_type": "code",
   "execution_count": null,
   "id": "e2412dbd",
   "metadata": {},
   "outputs": [],
   "source": [
    "from PineBioML import IO"
   ]
  },
  {
   "cell_type": "code",
   "execution_count": null,
   "id": "be66d4d0",
   "metadata": {},
   "outputs": [],
   "source": [
    "# Path\n",
    "input_folder = \"./input/\"\n",
    "output_folder = \"./output/\"\n",
    "export_title = \"example_basic \""
   ]
  },
  {
   "cell_type": "code",
   "execution_count": null,
   "id": "8435813e",
   "metadata": {},
   "outputs": [],
   "source": [
    "x, y = IO.read_multiple_groups(\n",
    "    file_path_list=[\n",
    "        input_folder+ \"example_group1.csv\", # all samples from this file will have y = 0, because it is in the 1st place of the file path list.\n",
    "        input_folder+ \"example_group2.tsv\", # all samples from this file will have y = 1, because it is in the 2nd place of the file path list.\n",
    "    ],\n",
    "    index_col=0\n",
    "    )"
   ]
  },
  {
   "cell_type": "code",
   "execution_count": null,
   "id": "4da53123",
   "metadata": {},
   "outputs": [],
   "source": [
    "y.describe()"
   ]
  },
  {
   "cell_type": "code",
   "execution_count": null,
   "id": "7512303b",
   "metadata": {},
   "outputs": [],
   "source": [
    "target_label = 1.0"
   ]
  },
  {
   "cell_type": "markdown",
   "id": "c2888b70",
   "metadata": {},
   "source": [
    "# Train test split"
   ]
  },
  {
   "cell_type": "code",
   "execution_count": null,
   "id": "16ddc0ce",
   "metadata": {},
   "outputs": [],
   "source": [
    "from sklearn.model_selection import train_test_split\n",
    "x_train, x_valid, y_train, y_valid = train_test_split(x, y, test_size=0.33, random_state=142, shuffle=True)"
   ]
  },
  {
   "cell_type": "markdown",
   "id": "d67931f0",
   "metadata": {},
   "source": [
    "# Experiment"
   ]
  },
  {
   "cell_type": "code",
   "execution_count": null,
   "id": "b7df5e3e",
   "metadata": {},
   "outputs": [],
   "source": [
    "from PineBioML.model.utils import Pine, sklearn_esitimator_wrapper\n",
    "\n",
    "from PineBioML.preprocessing import Normalizer, Pass\n",
    "from PineBioML.preprocessing.impute import knn_imputer, simple_imputer\n",
    "from PineBioML.preprocessing.utils import feature_extension\n",
    "from PineBioML.selection.classification import essemble_selector\n",
    "from PineBioML.model.supervised import Classification\n",
    "from sklearn.linear_model import LogisticRegression\n",
    "\n",
    "\n",
    "# define the experiment pipeline\n",
    "experiment = [\n",
    "    (\"MissingValueProcessing\", {\n",
    "        \"mean\": simple_imputer(threshold=1., strategy=\"mean\")\n",
    "        }),\n",
    "    (\"Standarization\", {\n",
    "        \"PowerTransformer\": Normalizer(method=\"PowerTransformer\"), \n",
    "        \"StandardScaler\": Normalizer(method=\"StandardScaler\"),\n",
    "        }),\n",
    "    (\"Selection\", {\n",
    "        \"ensemble\":essemble_selector(RF_trees=256, z_importance_threshold = 1), \n",
    "        \"None\": Pass()\n",
    "        }),\n",
    "    (\"Modeling\", {\n",
    "        \"LgisticRegression\": sklearn_esitimator_wrapper(LogisticRegression(penalty = None)),\n",
    "        \"RandomForest\": Classification.RandomForest_tuner(target=\"mcc\",validate_penalty=True),\n",
    "        \"XGBoost\": Classification.XGBoost_tuner(validate_penalty=True),\n",
    "        }),\n",
    "]"
   ]
  },
  {
   "cell_type": "code",
   "execution_count": null,
   "id": "0615f26a",
   "metadata": {},
   "outputs": [],
   "source": [
    "pine_automl = Pine(experiment, target_label = target_label, cv_result= True)\n",
    "result = pine_automl.do_experiment(x_train, y_train, x_valid, y_valid)"
   ]
  },
  {
   "cell_type": "code",
   "execution_count": null,
   "id": "19f4bc49",
   "metadata": {},
   "outputs": [],
   "source": [
    "pine_automl.experiment_detail()"
   ]
  },
  {
   "cell_type": "code",
   "execution_count": null,
   "id": "03c0dfc0",
   "metadata": {},
   "outputs": [],
   "source": [
    "# print the results, sort according to test_auc\n",
    "result.sort_values(\"test_auc\")"
   ]
  },
  {
   "cell_type": "code",
   "execution_count": null,
   "id": "092b032c",
   "metadata": {},
   "outputs": [],
   "source": [
    "# save the result\n",
    "result.to_csv(\"./output/example_Pine_result.csv\")"
   ]
  },
  {
   "cell_type": "markdown",
   "id": "323b69d2",
   "metadata": {},
   "source": [
    "# Pick a model and save it"
   ]
  },
  {
   "cell_type": "code",
   "execution_count": null,
   "id": "77792284",
   "metadata": {},
   "outputs": [],
   "source": [
    "# notice that the model is not fitted yet\n",
    "model = pine_automl.recall_model(id = 3)"
   ]
  },
  {
   "cell_type": "code",
   "execution_count": null,
   "id": "ec856fce",
   "metadata": {},
   "outputs": [],
   "source": [
    "# fit the model\n",
    "model.fit(x_train, y_train)\n",
    "y_valid_prob = model.predict_proba(x_valid)"
   ]
  },
  {
   "cell_type": "markdown",
   "id": "b4b18f7f",
   "metadata": {},
   "source": [
    "### summary"
   ]
  },
  {
   "cell_type": "code",
   "execution_count": null,
   "id": "3de0d9d2",
   "metadata": {},
   "outputs": [],
   "source": [
    "from PineBioML.report.utils import classification_summary\n",
    "\n",
    "classification_summary(y_valid, y_valid_prob, target_label=target_label)"
   ]
  },
  {
   "cell_type": "markdown",
   "id": "27f0a5c9",
   "metadata": {},
   "source": [
    "### save the model"
   ]
  },
  {
   "cell_type": "code",
   "execution_count": null,
   "id": "6f6c582a",
   "metadata": {},
   "outputs": [],
   "source": [
    "IO.save_model(model, \"./output/models/\", \"mode0\", overide=True)"
   ]
  }
 ],
 "metadata": {
  "kernelspec": {
   "display_name": "Python 3",
   "language": "python",
   "name": "python3"
  },
  "language_info": {
   "codemirror_mode": {
    "name": "ipython",
    "version": 3
   },
   "file_extension": ".py",
   "mimetype": "text/x-python",
   "name": "python",
   "nbconvert_exporter": "python",
   "pygments_lexer": "ipython3",
   "version": "3.11.9"
  }
 },
 "nbformat": 4,
 "nbformat_minor": 5
}
