{
 "cells": [
  {
   "cell_type": "code",
   "execution_count": 1,
   "id": "473c9584",
   "metadata": {},
   "outputs": [],
   "source": [
    "import pandas as pd\n",
    "import numpy as np"
   ]
  },
  {
   "cell_type": "code",
   "execution_count": 2,
   "id": "cfd51743",
   "metadata": {},
   "outputs": [],
   "source": [
    "from gprofiler import GProfiler\n",
    "gp = GProfiler(return_dataframe=True)"
   ]
  },
  {
   "cell_type": "markdown",
   "id": "2b51ce99",
   "metadata": {},
   "source": [
    "# IO"
   ]
  },
  {
   "cell_type": "code",
   "execution_count": 3,
   "id": "8f0fb1d1",
   "metadata": {},
   "outputs": [],
   "source": [
    "import PineBioML.IO as IO"
   ]
  },
  {
   "cell_type": "code",
   "execution_count": 4,
   "id": "0f94a0ae",
   "metadata": {},
   "outputs": [],
   "source": [
    "# Path\n",
    "input_folder = \"./input/\"\n",
    "output_folder = \"./output/\"\n",
    "export_title = \"example_ccRCC_proteomics \""
   ]
  },
  {
   "cell_type": "markdown",
   "id": "33e480fc",
   "metadata": {},
   "source": [
    "The data is from  [LinkedOmicsKB](https://kb.linkedomics.org/)."
   ]
  },
  {
   "cell_type": "code",
   "execution_count": 5,
   "id": "4f440d84",
   "metadata": {},
   "outputs": [],
   "source": [
    "##### Read data method 2: read several files at once\n",
    "x, group_label = IO.read_multiple_groups(\n",
    "    [\n",
    "        input_folder+ \"CCRCC_proteomics_gene_abundance_log2_reference_intensity_normalized_Normal.txt\",\n",
    "        input_folder+ \"CCRCC_proteomics_gene_abundance_log2_reference_intensity_normalized_Tumor.txt\"\n",
    "    ],\n",
    "    transpose= True # Set True to transpose data before merging\n",
    "    )\n",
    "\n",
    "y = group_label"
   ]
  },
  {
   "cell_type": "code",
   "execution_count": null,
   "id": "95eaa51f",
   "metadata": {},
   "outputs": [],
   "source": [
    "x.head(5)"
   ]
  },
  {
   "cell_type": "code",
   "execution_count": null,
   "id": "afee0029",
   "metadata": {},
   "outputs": [],
   "source": [
    "y.head(5)"
   ]
  },
  {
   "cell_type": "markdown",
   "id": "2e571d75",
   "metadata": {},
   "source": [
    "# Preprocessing"
   ]
  },
  {
   "cell_type": "code",
   "execution_count": null,
   "id": "14a40abc",
   "metadata": {},
   "outputs": [],
   "source": [
    "# Convert ENSEMBL ID to gene symbol by gprofiler\n",
    "x.columns = [col.split(\".\")[0] for col in x.columns]\n",
    "gene_name = gp.convert(query=x.columns.to_list())[\"name\"]\n",
    "\n",
    "# For those who can't find a gene symbol, they will remain in ENSEMBL ID\n",
    "matched = gene_name == \"None\"\n",
    "x.columns = x.columns.where(matched, gene_name)\n",
    "\n",
    "# The result\n",
    "x.head(5)"
   ]
  },
  {
   "cell_type": "code",
   "execution_count": 9,
   "id": "fa55f0a2",
   "metadata": {},
   "outputs": [],
   "source": [
    "### Revert to Original scale\n",
    "x = np.power(2, x)"
   ]
  },
  {
   "cell_type": "code",
   "execution_count": null,
   "id": "f42d1ccb",
   "metadata": {},
   "outputs": [],
   "source": [
    "# Impute 0\n",
    "from PineBioML.preprocessing import impute\n",
    "\n",
    "# The imputer will drop the features with missing value more than 50%.\n",
    "# Remaining will be filled by 0.\n",
    "simple = impute.simple_imputer(threshold = 0.5, strategy = \"constant\")\n",
    "x = simple.fit_transform(x, y)\n",
    "\n",
    "# retsult\n",
    "x.head(5)"
   ]
  },
  {
   "cell_type": "code",
   "execution_count": 11,
   "id": "31b98609",
   "metadata": {},
   "outputs": [],
   "source": [
    "# make a copy for volcanal plot\n",
    "x_copy = x.copy()"
   ]
  },
  {
   "cell_type": "code",
   "execution_count": 12,
   "id": "2f7025f0",
   "metadata": {},
   "outputs": [],
   "source": [
    "from PineBioML.preprocessing import Normalizer\n",
    "### within sample normalization\n",
    "x = Normalizer(method = \"Normalizer\").fit_transform(x)\n",
    "\n",
    "### standarization\n",
    "#x = (x-x.mean())/x.std()"
   ]
  },
  {
   "cell_type": "markdown",
   "id": "e33602a2",
   "metadata": {},
   "source": [
    "from PineBioML.report.utils import data_overview\n",
    "\n",
    "data_overview(x, y, label_name = \"ccRCC tissue\", title = \"Example ccRCC Proteomics\")"
   ]
  },
  {
   "cell_type": "markdown",
   "id": "ea9ff678",
   "metadata": {},
   "source": [
    "# Feature selection"
   ]
  },
  {
   "cell_type": "code",
   "execution_count": 13,
   "id": "ebee9752",
   "metadata": {},
   "outputs": [],
   "source": [
    "from PineBioML.selection.Volcano import Volcano_selection"
   ]
  },
  {
   "cell_type": "code",
   "execution_count": null,
   "id": "3d6628bc",
   "metadata": {},
   "outputs": [],
   "source": [
    "# Using volcano plot to select feature.\n",
    "vol = Volcano_selection(k= -1, strategy = \"p\", log_domain=False, absolute= False)\n",
    "vol_importance = vol.Select(\n",
    "    x_copy, y)  # The number of features to select, and -1 means choose all.\n",
    "\n",
    "# Plot the vlcano plot.\n",
    "vol.plotting()"
   ]
  },
  {
   "cell_type": "code",
   "execution_count": null,
   "id": "1da74543",
   "metadata": {},
   "outputs": [],
   "source": [
    "from PineBioML.selection.classification import essemble_selector\n",
    "\n",
    "# Use several way to select features, which includes decision tree, random forest, lasso, multi lasso, svm, adaboost, xgboost\n",
    "selector = essemble_selector(k = 100, z_importance_threshold=1, RF_trees = 1024*8)\n",
    "important_feature, importance = selector.Select(x, y)"
   ]
  },
  {
   "cell_type": "code",
   "execution_count": null,
   "id": "8c94fe35",
   "metadata": {},
   "outputs": [],
   "source": [
    "# The features that was selected by ML algoritms.\n",
    "important_feature"
   ]
  },
  {
   "cell_type": "code",
   "execution_count": null,
   "id": "d88eda78",
   "metadata": {},
   "outputs": [],
   "source": [
    "# The feature importance given by diffirent methods.\n",
    "# Please Notice that the score between diffirent methods is not comparable.\n",
    "importance"
   ]
  },
  {
   "cell_type": "markdown",
   "id": "83181a51",
   "metadata": {},
   "source": [
    "# Analysis utils"
   ]
  },
  {
   "cell_type": "code",
   "execution_count": null,
   "id": "6d49930a",
   "metadata": {},
   "outputs": [],
   "source": [
    "### Plot important features from diffirent methods on volcano plot.\n",
    "for method in importance:\n",
    "    vol.plotting(external=True,\n",
    "                 external_score=importance[method].dropna(),\n",
    "                 title=method + \" in volcano\",\n",
    "                 show=False,\n",
    "                 saving=True,\n",
    "                 save_path=\"./output/images/\" + export_title)"
   ]
  },
  {
   "cell_type": "code",
   "execution_count": null,
   "id": "4a795e62",
   "metadata": {},
   "outputs": [],
   "source": [
    "# Using g:profiler to do gene enrichment.\n",
    "gp_enrichment_result = []\n",
    "for method in important_feature.columns:\n",
    "    gp_result = gp.profile(query = important_feature[method].dropna().to_list()).sort_values(\"p_value\")\n",
    "    gp_result[\"method\"] = method\n",
    "    gp_enrichment_result.append(gp_result[[\"method\", \"source\", \"native\", \"parents\", \"p_value\", \"description\", \"intersection_size\"]])\n",
    "gp_enrichment_result = pd.concat(gp_enrichment_result,\n",
    "                                 axis=0).reset_index(drop=True)\n",
    "# The result\n",
    "gp_enrichment_result"
   ]
  },
  {
   "cell_type": "code",
   "execution_count": null,
   "id": "737cedbb",
   "metadata": {},
   "outputs": [],
   "source": [
    "# Showing the top 10 significant result\n",
    "gp_enrichment_result.sort_values(\"p_value\").head(20)"
   ]
  },
  {
   "cell_type": "markdown",
   "id": "28284af4",
   "metadata": {},
   "source": [
    "# Modeling"
   ]
  },
  {
   "cell_type": "code",
   "execution_count": 21,
   "id": "1bbc7be9",
   "metadata": {},
   "outputs": [],
   "source": [
    "from sklearn.model_selection import cross_val_score\n",
    "from PineBioML.model.supervised.Classification import SVM_tuner"
   ]
  },
  {
   "cell_type": "code",
   "execution_count": null,
   "id": "0f1100fa",
   "metadata": {},
   "outputs": [],
   "source": [
    "svm = SVM_tuner().fit(selector.transform(x), y)\n",
    "svm.plot()"
   ]
  },
  {
   "cell_type": "markdown",
   "id": "01039702",
   "metadata": {},
   "source": [
    "# Output"
   ]
  },
  {
   "cell_type": "code",
   "execution_count": 23,
   "id": "a9f284f1",
   "metadata": {},
   "outputs": [],
   "source": [
    "# Save the result ro output_path\n",
    "important_feature.to_csv(output_folder + export_title + \" important feature.csv\")\n",
    "importance.to_csv(output_folder+export_title+ \" importance.csv\")\n",
    "gp_enrichment_result.to_csv(output_folder+export_title+ \" g_prophiler.csv\")\n",
    "svm_performance.to_csv(output_folder+export_title+ \" rbfSVM_performance.csv\")\n",
    "vol_importance.to_csv(output_folder + export_title + \" volcano_foldchange.csv\")"
   ]
  },
  {
   "cell_type": "code",
   "execution_count": null,
   "id": "49b64001",
   "metadata": {},
   "outputs": [],
   "source": []
  }
 ],
 "metadata": {
  "kernelspec": {
   "display_name": "Python 3",
   "language": "python",
   "name": "python3"
  },
  "language_info": {
   "codemirror_mode": {
    "name": "ipython",
    "version": 3
   },
   "file_extension": ".py",
   "mimetype": "text/x-python",
   "name": "python",
   "nbconvert_exporter": "python",
   "pygments_lexer": "ipython3",
   "version": "3.9.13"
  }
 },
 "nbformat": 4,
 "nbformat_minor": 5
}
