{
 "cells": [
  {
   "cell_type": "markdown",
   "id": "2b51ce99",
   "metadata": {},
   "source": [
    "# IO"
   ]
  },
  {
   "cell_type": "code",
   "execution_count": null,
   "id": "8f0fb1d1",
   "metadata": {},
   "outputs": [],
   "source": [
    "from PineBioML import IO"
   ]
  },
  {
   "cell_type": "code",
   "execution_count": null,
   "id": "0f94a0ae",
   "metadata": {},
   "outputs": [],
   "source": [
    "# Path\n",
    "input_folder = \"./input/\"\n",
    "output_folder = \"./output/\"\n",
    "export_title = \"example_basic \""
   ]
  },
  {
   "cell_type": "code",
   "execution_count": null,
   "id": "378e1063",
   "metadata": {},
   "outputs": [],
   "source": [
    "##### Read data method 2: read multiple files\n",
    "x, y = IO.read_multiple_groups(\n",
    "    file_path_list=[\n",
    "        input_folder+ \"example_group1.csv\", # all samples from this file will have y = 0, because it is in the 1st place of the file path list.\n",
    "        input_folder+ \"example_group2.tsv\", # all samples from this file will have y = 1, because it is in the 2nd place of the file path list.\n",
    "    ],\n",
    "    index_col=0\n",
    "    )"
   ]
  },
  {
   "cell_type": "code",
   "execution_count": null,
   "id": "e4a7a657",
   "metadata": {},
   "outputs": [],
   "source": [
    "x.head(5)"
   ]
  },
  {
   "cell_type": "code",
   "execution_count": null,
   "id": "0fd82811",
   "metadata": {},
   "outputs": [],
   "source": [
    "y.value_counts()"
   ]
  },
  {
   "cell_type": "markdown",
   "id": "2e571d75",
   "metadata": {},
   "source": [
    "# Preprocessing"
   ]
  },
  {
   "cell_type": "code",
   "execution_count": null,
   "id": "ceff71dd",
   "metadata": {},
   "outputs": [],
   "source": [
    "from PineBioML.preprocessing import Normalizer\n",
    "\n",
    "x = Normalizer(method=\"StandardScaler\").fit_transform(x)"
   ]
  },
  {
   "cell_type": "code",
   "execution_count": null,
   "id": "f42d1ccb",
   "metadata": {},
   "outputs": [],
   "source": [
    "# Impute 0\n",
    "from PineBioML.preprocessing import impute\n",
    "\n",
    "# The imputer will drop the features with missing value more than 60%.\n",
    "# Remaining will be filled by 0.\n",
    "simple = impute.simple_imputer(threshold = 0.6, strategy = \"constant\")\n",
    "x = simple.fit_transform(x)"
   ]
  },
  {
   "cell_type": "markdown",
   "id": "b854998c",
   "metadata": {},
   "source": [
    "# Data overview"
   ]
  },
  {
   "cell_type": "code",
   "execution_count": null,
   "id": "0dcf9fc0",
   "metadata": {},
   "outputs": [],
   "source": [
    "import PineBioML.report.utils as report_utils"
   ]
  },
  {
   "cell_type": "code",
   "execution_count": null,
   "id": "796a8325",
   "metadata": {},
   "outputs": [],
   "source": [
    "from sklearn.preprocessing import LabelEncoder\n",
    "from pandas import Series\n",
    "\n",
    "# turn y into a regression problem\n",
    "y = Series(LabelEncoder().fit_transform(y), index = y.index, name = y.name)"
   ]
  },
  {
   "cell_type": "code",
   "execution_count": null,
   "id": "e1d73262",
   "metadata": {},
   "outputs": [],
   "source": [
    "report_utils.data_overview(x, y, is_classification=False, discrete_legend=False, prefix=\"Original Data (labeled y)\", save_fig=True, save_path=\"./output/images/\", show_fig=True)"
   ]
  },
  {
   "cell_type": "markdown",
   "id": "ea9ff678",
   "metadata": {},
   "source": [
    "# Feature selection"
   ]
  },
  {
   "cell_type": "code",
   "execution_count": null,
   "id": "ebee9752",
   "metadata": {},
   "outputs": [],
   "source": [
    "from PineBioML.selection.regression import essemble_selector"
   ]
  },
  {
   "cell_type": "code",
   "execution_count": null,
   "id": "1da74543",
   "metadata": {},
   "outputs": [],
   "source": [
    "# Use several way to select top-k important features, which includes decision tree, random forest, lasso, multi lasso, svm, adaboost, xgboost\n",
    "ensemble_selector = essemble_selector(k = 5)\n",
    "x = ensemble_selector.fit_transform(x, y) # if k = -1, it returns all the feature scores"
   ]
  },
  {
   "cell_type": "code",
   "execution_count": null,
   "id": "c1915974",
   "metadata": {},
   "outputs": [],
   "source": [
    "importance = ensemble_selector.what_matters()\n",
    "importance"
   ]
  },
  {
   "cell_type": "markdown",
   "id": "28284af4",
   "metadata": {},
   "source": [
    "# Modeling"
   ]
  },
  {
   "cell_type": "markdown",
   "id": "aa912f13",
   "metadata": {},
   "source": [
    "### Train test split"
   ]
  },
  {
   "cell_type": "code",
   "execution_count": null,
   "id": "c9528af9",
   "metadata": {},
   "outputs": [],
   "source": [
    "from sklearn.model_selection import train_test_split\n",
    "\n",
    "x_train, x_valid, y_train, y_valid = train_test_split(x, y, test_size=0.33, random_state=142, shuffle=True, stratify=y)"
   ]
  },
  {
   "cell_type": "markdown",
   "id": "5c2a1ab3",
   "metadata": {},
   "source": [
    "### Tuning a model"
   ]
  },
  {
   "cell_type": "code",
   "execution_count": null,
   "id": "4508800d",
   "metadata": {},
   "outputs": [],
   "source": [
    "import PineBioML.model.supervised.Regression as tuner\n",
    "\n",
    "rf = tuner.RandomForest_tuner(target=\"mse\", kernel_seed=11, valid_seed = 2222, optuna_seed = 333).fit(x_train, y_train)\n",
    "rf.plot()"
   ]
  },
  {
   "cell_type": "code",
   "execution_count": null,
   "id": "a44efca6",
   "metadata": {},
   "outputs": [],
   "source": [
    "report_utils.regression_summary(y_valid, rf.predict(x_valid), x_valid, prefix=\"rf\")"
   ]
  },
  {
   "cell_type": "code",
   "execution_count": null,
   "id": "e5bb0b5c",
   "metadata": {},
   "outputs": [],
   "source": []
  }
 ],
 "metadata": {
  "kernelspec": {
   "display_name": "Python 3",
   "language": "python",
   "name": "python3"
  },
  "language_info": {
   "codemirror_mode": {
    "name": "ipython",
    "version": 3
   },
   "file_extension": ".py",
   "mimetype": "text/x-python",
   "name": "python",
   "nbconvert_exporter": "python",
   "pygments_lexer": "ipython3",
   "version": "3.11.9"
  }
 },
 "nbformat": 4,
 "nbformat_minor": 5
}
