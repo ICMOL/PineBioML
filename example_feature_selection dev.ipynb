{
 "cells": [
  {
   "cell_type": "code",
   "execution_count": null,
   "id": "473c9584",
   "metadata": {},
   "outputs": [],
   "source": [
    "import pandas as pd\n",
    "import numpy as np"
   ]
  },
  {
   "cell_type": "code",
   "execution_count": null,
   "id": "cfd51743",
   "metadata": {},
   "outputs": [],
   "source": [
    "from gprofiler import GProfiler\n",
    "gp = GProfiler(return_dataframe=True)"
   ]
  },
  {
   "cell_type": "markdown",
   "id": "2b51ce99",
   "metadata": {},
   "source": [
    "# IO"
   ]
  },
  {
   "cell_type": "code",
   "execution_count": null,
   "id": "8f0fb1d1",
   "metadata": {},
   "outputs": [],
   "source": [
    "from PineBioML.preprocessing import IO"
   ]
  },
  {
   "cell_type": "markdown",
   "id": "99e0a8d1",
   "metadata": {},
   "source": [
    "The data is from  [LinkedOmicsKB](https://kb.linkedomics.org/)."
   ]
  },
  {
   "cell_type": "code",
   "execution_count": null,
   "id": "0f94a0ae",
   "metadata": {},
   "outputs": [],
   "source": [
    "# Path\n",
    "input_folder = \"./input/\"\n",
    "export_title = \"PDAC \"\n",
    "output_folder = \"./output/\""
   ]
  },
  {
   "cell_type": "code",
   "execution_count": null,
   "id": "864aac99",
   "metadata": {},
   "outputs": [],
   "source": [
    "# Read data\n",
    "Normal = IO.read_file(input_folder+ \"PDAC_proteomics_gene_abundance_log2_reference_intensity_normalized_Normal.txt\").set_index(\"idx\").T\n",
    "Tumour = IO.read_file(input_folder+ \"PDAC_proteomics_gene_abundance_log2_reference_intensity_normalized_Tumor.txt\").set_index(\"idx\").T"
   ]
  },
  {
   "cell_type": "markdown",
   "id": "2e571d75",
   "metadata": {},
   "source": [
    "# Preprocessing"
   ]
  },
  {
   "cell_type": "code",
   "execution_count": null,
   "id": "c7711efd",
   "metadata": {},
   "outputs": [],
   "source": [
    "# Merge the dataframes\n",
    "x = pd.concat([Normal, Tumour], axis = 0).reset_index(drop = True)\n",
    "y = pd.Series(np.concatenate([np.zeros_like(Normal.index), np.ones_like(Tumour.index)], axis = 0)) == 1"
   ]
  },
  {
   "cell_type": "code",
   "execution_count": null,
   "id": "5fbd40ec",
   "metadata": {},
   "outputs": [],
   "source": [
    "x.head(5)"
   ]
  },
  {
   "cell_type": "code",
   "execution_count": null,
   "id": "14a40abc",
   "metadata": {},
   "outputs": [],
   "source": [
    "# Convert ENSEMBL ID to gene symbol by gprofiler\n",
    "x.columns = [col.split(\".\")[0] for col in x.columns]\n",
    "gene_name = gp.convert(query=x.columns.to_list())[\"name\"]\n",
    "\n",
    "# For those who can't find a gene symbol, they will remain in ENSEMBL ID\n",
    "matched = gene_name == \"None\"\n",
    "x.columns = x.columns.where(matched, gene_name)\n",
    "\n",
    "# The result\n",
    "x.head(5)"
   ]
  },
  {
   "cell_type": "code",
   "execution_count": null,
   "id": "fa55f0a2",
   "metadata": {},
   "outputs": [],
   "source": [
    "### Revert to Original scale\n",
    "x = np.power(2, x)"
   ]
  },
  {
   "cell_type": "code",
   "execution_count": null,
   "id": "f42d1ccb",
   "metadata": {},
   "outputs": [],
   "source": [
    "# Impute 0\n",
    "from PineBioML.preprocessing import impute\n",
    "\n",
    "\n",
    "# The imputer will drop the features with missing value more than 50%.\n",
    "# Remaining will be filled by 0.\n",
    "simple = impute.simple_imputer(threshold = 0.5, strategy = \"constant\")\n",
    "x, y = simple.fit_transform(x, y)\n",
    "\n",
    "# retsult\n",
    "x.head(5)"
   ]
  },
  {
   "cell_type": "markdown",
   "id": "ea9ff678",
   "metadata": {},
   "source": [
    "# Feature selection"
   ]
  },
  {
   "cell_type": "code",
   "execution_count": null,
   "id": "ebee9752",
   "metadata": {},
   "outputs": [],
   "source": [
    "from PineBioML.selection.ensemble import selector\n",
    "from PineBioML.selection.Volcano import Volcano_selection"
   ]
  },
  {
   "cell_type": "code",
   "execution_count": null,
   "id": "3d6628bc",
   "metadata": {},
   "outputs": [],
   "source": [
    "# Using volcano plot to select feature.\n",
    "vol = Volcano_selection(strategy = \"p\", log_domain=False, absolute= False)\n",
    "vol_importance = vol.Select(\n",
    "    x, y, -1)  # The number of features to select, and -1 means choose all.\n",
    "\n",
    "# Plot the vlcano plot.\n",
    "vol.plotting()"
   ]
  },
  {
   "cell_type": "code",
   "execution_count": null,
   "id": "1da74543",
   "metadata": {},
   "outputs": [],
   "source": [
    "# Use several way to select features, which includes decision tree, random forest, lasso, multi lasso, svm, adaboost, xgboost\n",
    "ensemble_selector = selector()\n",
    "important_feature, importance = ensemble_selector.Select(x, y, 20)"
   ]
  },
  {
   "cell_type": "code",
   "execution_count": null,
   "id": "8c94fe35",
   "metadata": {},
   "outputs": [],
   "source": [
    "# The features that was selected by ML algoritms.\n",
    "important_feature"
   ]
  },
  {
   "cell_type": "code",
   "execution_count": null,
   "id": "d88eda78",
   "metadata": {},
   "outputs": [],
   "source": [
    "# The feature importance given by diffirent methods.\n",
    "# Please Notice that the score between diffirent methods is not comparable.\n",
    "importance"
   ]
  },
  {
   "cell_type": "markdown",
   "id": "83181a51",
   "metadata": {},
   "source": [
    "# Analysis utils"
   ]
  },
  {
   "cell_type": "code",
   "execution_count": null,
   "id": "6d49930a",
   "metadata": {},
   "outputs": [],
   "source": [
    "### Plot important features from diffirent methods on volcano plot.\n",
    "for method in importance:\n",
    "    vol.plotting(external=True,\n",
    "                 external_score=importance[method].dropna(),\n",
    "                 title=method + \" in volcano\",\n",
    "                 show=False,\n",
    "                 saving=True,\n",
    "                 save_path=\"./output/images/\" + export_title)"
   ]
  },
  {
   "cell_type": "code",
   "execution_count": null,
   "id": "4a795e62",
   "metadata": {},
   "outputs": [],
   "source": [
    "# Using g:profiler to do gene enrichment.\n",
    "gp_enrichment_result = []\n",
    "for method in important_feature.columns:\n",
    "    gp_result = gp.profile(query = important_feature[method].dropna().to_list()).sort_values(\"p_value\")\n",
    "    gp_result[\"method\"] = method\n",
    "    gp_enrichment_result.append(gp_result[[\"method\", \"source\", \"native\", \"parents\", \"p_value\", \"description\", \"intersection_size\"]])\n",
    "gp_enrichment_result = pd.concat(gp_enrichment_result,\n",
    "                                 axis=0).reset_index(drop=True)\n",
    "# The result\n",
    "gp_enrichment_result"
   ]
  },
  {
   "cell_type": "code",
   "execution_count": null,
   "id": "737cedbb",
   "metadata": {},
   "outputs": [],
   "source": [
    "# Showing the top 10 significant result\n",
    "gp_enrichment_result.sort_values(\"p_value\").head(20)"
   ]
  },
  {
   "cell_type": "markdown",
   "id": "28284af4",
   "metadata": {},
   "source": [
    "# Modeling"
   ]
  },
  {
   "cell_type": "code",
   "execution_count": null,
   "id": "1bbc7be9",
   "metadata": {},
   "outputs": [],
   "source": [
    "from sklearn.svm import SVC\n",
    "import optuna\n",
    "from sklearn.model_selection import cross_val_score\n",
    "from sklearn.metrics import roc_auc_score"
   ]
  },
  {
   "cell_type": "code",
   "execution_count": null,
   "id": "40b59f48",
   "metadata": {},
   "outputs": [],
   "source": [
    "# create an optuna tuner for support vector classifier\n",
    "class SVC_tuner():\n",
    "    def __init__(self, x, y):\n",
    "        self.x = x\n",
    "        self.y = y\n",
    "\n",
    "    def __call__(self, trial):\n",
    "        svc_c = trial.suggest_float(\"svc_c\", 1e-5, 1e3, log=True)\n",
    "        classifier_obj = SVC(C = svc_c, cache_size = 1e+3, class_weight = \"balanced\", gamma=\"auto\", probability=True)\n",
    "        \n",
    "        score = cross_val_score(classifier_obj, self.x, self.y, n_jobs=-1, cv=5, scoring = \"neg_log_loss\")#\n",
    "        accuracy = score.mean()\n",
    "        return accuracy"
   ]
  },
  {
   "cell_type": "code",
   "execution_count": null,
   "id": "0f1100fa",
   "metadata": {},
   "outputs": [],
   "source": [
    "x = (x - x.mean()) / x.std()\n",
    "\n",
    "svm_performance = []\n",
    "for k in [5, 10, 20]:\n",
    "    performance = {}\n",
    "    for method in important_feature.columns:\n",
    "        top_k = important_feature.head(k)[method].dropna()\n",
    "        task = SVC_tuner(x[top_k], y)\n",
    "        study = optuna.create_study(direction=\"maximize\")\n",
    "        study.optimize(task, n_trials=200)\n",
    "\n",
    "        best_svc_c = study.best_trial.params[\"svc_c\"]\n",
    "\n",
    "        best_svc = SVC(C=best_svc_c,\n",
    "                       probability=True,\n",
    "                       cache_size=1e+3,\n",
    "                       class_weight=\"balanced\",\n",
    "                       gamma=\"auto\").fit(x[top_k], y)\n",
    "        prob = best_svc.predict_proba(x[top_k])\n",
    "\n",
    "        performance[method] = roc_auc_score(y, (prob[:, 1] +\n",
    "                                                (1 - prob[:, 0])) / 2)\n",
    "    svm_performance.append(pd.Series(performance, name=\"top\" + str(k)))\n",
    "\n",
    "#The result\n",
    "svm_performance = pd.concat(svm_performance, axis=1)\n",
    "svm_performance"
   ]
  },
  {
   "cell_type": "markdown",
   "id": "01039702",
   "metadata": {},
   "source": [
    "# Output"
   ]
  },
  {
   "cell_type": "code",
   "execution_count": null,
   "id": "a9f284f1",
   "metadata": {},
   "outputs": [],
   "source": [
    "# Save the result ro output_path\n",
    "important_feature.to_csv(output_folder + export_title + \" important feature.csv\")\n",
    "importance.to_csv(output_folder+export_title+ \" importance.csv\")\n",
    "gp_enrichment_result.to_csv(output_folder+export_title+ \" g_prophiler.csv\")\n",
    "svm_performance.to_csv(output_folder+export_title+ \" rbfSVM_performance.csv\")\n",
    "vol_importance.to_csv(output_folder + export_title + \" volcano_foldchange.csv\")"
   ]
  }
 ],
 "metadata": {
  "kernelspec": {
   "display_name": "Python 3 (ipykernel)",
   "language": "python",
   "name": "python3"
  },
  "language_info": {
   "codemirror_mode": {
    "name": "ipython",
    "version": 3
   },
   "file_extension": ".py",
   "mimetype": "text/x-python",
   "name": "python",
   "nbconvert_exporter": "python",
   "pygments_lexer": "ipython3",
   "version": "3.9.13"
  }
 },
 "nbformat": 4,
 "nbformat_minor": 5
}
