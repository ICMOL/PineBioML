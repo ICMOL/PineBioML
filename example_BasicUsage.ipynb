{
 "cells": [
  {
   "cell_type": "code",
   "execution_count": null,
   "id": "473c9584",
   "metadata": {},
   "outputs": [],
   "source": [
    "import pandas as pd\n",
    "import numpy as np"
   ]
  },
  {
   "cell_type": "markdown",
   "id": "2b51ce99",
   "metadata": {},
   "source": [
    "# IO"
   ]
  },
  {
   "cell_type": "code",
   "execution_count": null,
   "id": "8f0fb1d1",
   "metadata": {},
   "outputs": [],
   "source": [
    "from PineBioML.preprocessing import IO\n"
   ]
  },
  {
   "cell_type": "code",
   "execution_count": null,
   "id": "0f94a0ae",
   "metadata": {},
   "outputs": [],
   "source": [
    "# Path\n",
    "input_folder = \"./input/\"\n",
    "output_folder = \"./output/\"\n",
    "export_title = \"example_basic \""
   ]
  },
  {
   "cell_type": "code",
   "execution_count": null,
   "id": "864aac99",
   "metadata": {},
   "outputs": [],
   "source": [
    "##### Read data method 1: read single file\n",
    "data = IO.read_file(input_folder+ \"example_data.xlsx\", index_col=0)\n",
    "y = data[\"y\"]\n",
    "x = data.drop(\"y\", axis = 1)\n"
   ]
  },
  {
   "cell_type": "markdown",
   "id": "2e571d75",
   "metadata": {},
   "source": [
    "# Preprocessing"
   ]
  },
  {
   "cell_type": "code",
   "execution_count": null,
   "id": "ceff71dd",
   "metadata": {},
   "outputs": [],
   "source": [
    "### within sample normalization\n",
    "#x = x.T\n",
    "#x = (x-x.mean())/x.std()\n",
    "#x = x.T\n",
    "\n",
    "### standarization\n",
    "x = (x-x.mean())/x.std()"
   ]
  },
  {
   "cell_type": "code",
   "execution_count": null,
   "id": "f42d1ccb",
   "metadata": {},
   "outputs": [],
   "source": [
    "# Impute 0\n",
    "from PineBioML.preprocessing import impute\n",
    "\n",
    "# The imputer will drop the features with missing value more than 50%.\n",
    "# Remaining will be filled by 0.\n",
    "simple = impute.simple_imputer(threshold = 0.6, strategy = \"constant\")\n",
    "x, y = simple.fit_transform(x, y)"
   ]
  },
  {
   "cell_type": "markdown",
   "id": "b854998c",
   "metadata": {},
   "source": [
    "# Analysis utils"
   ]
  },
  {
   "cell_type": "code",
   "execution_count": null,
   "id": "0dcf9fc0",
   "metadata": {},
   "outputs": [],
   "source": [
    "import PineBioML.report.utils as report_utils"
   ]
  },
  {
   "cell_type": "code",
   "execution_count": null,
   "id": "a4345f62",
   "metadata": {},
   "outputs": [],
   "source": [
    "report_utils.data_overview(x, y)"
   ]
  },
  {
   "cell_type": "markdown",
   "id": "ea9ff678",
   "metadata": {},
   "source": [
    "# Feature selection"
   ]
  },
  {
   "cell_type": "code",
   "execution_count": null,
   "id": "ebee9752",
   "metadata": {},
   "outputs": [],
   "source": [
    "from PineBioML.selection.ensemble import selector"
   ]
  },
  {
   "cell_type": "code",
   "execution_count": null,
   "id": "1da74543",
   "metadata": {},
   "outputs": [],
   "source": [
    "# Use several way to select features, which includes decision tree, random forest, lasso, multi lasso, svm, adaboost, xgboost\n",
    "ensemble_selector = selector()\n",
    "important_feature, importance = ensemble_selector.Select(x, y, 10)"
   ]
  },
  {
   "cell_type": "code",
   "execution_count": null,
   "id": "8c94fe35",
   "metadata": {},
   "outputs": [],
   "source": [
    "# The features that was selected by ML algoritms.\n",
    "important_feature"
   ]
  },
  {
   "cell_type": "code",
   "execution_count": null,
   "id": "d88eda78",
   "metadata": {},
   "outputs": [],
   "source": [
    "# The feature importance given by diffirent methods.\n",
    "# Please Notice that the score between diffirent methods is not comparable.\n",
    "importance"
   ]
  },
  {
   "cell_type": "code",
   "execution_count": null,
   "id": "2d516fa4",
   "metadata": {},
   "outputs": [],
   "source": [
    "merge_importance = ((importance-importance.mean())/importance.std()).mean(axis = 1).sort_values(ascending=False)\n",
    "merge_importance"
   ]
  },
  {
   "cell_type": "code",
   "execution_count": null,
   "id": "be0dec82",
   "metadata": {},
   "outputs": [],
   "source": [
    "report_utils.data_overview(x[merge_importance.index[:5]], y)"
   ]
  },
  {
   "cell_type": "markdown",
   "id": "28284af4",
   "metadata": {},
   "source": [
    "# Modeling"
   ]
  },
  {
   "cell_type": "code",
   "execution_count": null,
   "id": "c9528af9",
   "metadata": {},
   "outputs": [],
   "source": [
    "from sklearn.model_selection import train_test_split\n",
    "\n",
    "x_train, x_valid, y_train, y_valid = train_test_split(x[merge_importance.index[:5]], y, test_size=0.33, random_state=142, shuffle=True)"
   ]
  },
  {
   "cell_type": "code",
   "execution_count": null,
   "id": "5105d02f",
   "metadata": {},
   "outputs": [],
   "source": [
    "import PineBioML.model.supervised.Classification as tuner"
   ]
  },
  {
   "cell_type": "markdown",
   "id": "5c2a1ab3",
   "metadata": {},
   "source": [
    "### optuna"
   ]
  },
  {
   "cell_type": "code",
   "execution_count": null,
   "id": "4508800d",
   "metadata": {},
   "outputs": [],
   "source": [
    "rf = tuner.RandomForest_tuner(x_train, y_train, target=\"f1\").tune()"
   ]
  },
  {
   "cell_type": "code",
   "execution_count": null,
   "id": "efcf22ef",
   "metadata": {},
   "outputs": [],
   "source": [
    "svm = tuner.SVC_tuner(x_train, y_train, target=\"roc_auc\").tune()"
   ]
  },
  {
   "cell_type": "code",
   "execution_count": null,
   "id": "8c556cb4",
   "metadata": {},
   "outputs": [],
   "source": [
    "# fit the model\n",
    "rf.fit(x_train, y_train)\n",
    "svm.fit(x_train, y_train)"
   ]
  },
  {
   "cell_type": "code",
   "execution_count": null,
   "id": "a3a4ad95",
   "metadata": {},
   "outputs": [],
   "source": [
    "report_utils.classification_summary(y_valid ,rf.predict_proba(x_valid)[:, 1]) "
   ]
  },
  {
   "cell_type": "code",
   "execution_count": null,
   "id": "6b7870d2",
   "metadata": {},
   "outputs": [],
   "source": [
    "report_utils.classification_summary(y_valid, svm.predict_proba(x_valid)[:, 1]) "
   ]
  },
  {
   "cell_type": "markdown",
   "id": "6f3b144f",
   "metadata": {},
   "source": [
    "### Mljar"
   ]
  },
  {
   "cell_type": "code",
   "execution_count": null,
   "id": "38f9447f",
   "metadata": {},
   "outputs": [],
   "source": [
    "from supervised.automl import AutoML\n",
    "\n",
    "mljar = AutoML(mode = \"Perform\", results_path = output_folder+\"MLjar\")\n",
    "mljar.fit(x_train, y_train)"
   ]
  },
  {
   "cell_type": "code",
   "execution_count": null,
   "id": "6db388d4",
   "metadata": {},
   "outputs": [],
   "source": [
    "report_utils.classification_summary(y_valid, mljar.predict_proba(x_valid)[:, 1])"
   ]
  },
  {
   "cell_type": "markdown",
   "id": "01039702",
   "metadata": {},
   "source": [
    "# Output"
   ]
  },
  {
   "cell_type": "code",
   "execution_count": null,
   "id": "a9f284f1",
   "metadata": {},
   "outputs": [],
   "source": [
    "# Save the result ro output_path\n",
    "important_feature.to_csv(output_folder + export_title + \" important feature.csv\")\n",
    "importance.to_csv(output_folder+export_title+ \" importance.csv\")"
   ]
  },
  {
   "cell_type": "code",
   "execution_count": null,
   "id": "05a16d7b",
   "metadata": {},
   "outputs": [],
   "source": [
    "import joblib\n",
    "# save model\n",
    "joblib.dump(rf, output_folder+\"models/\"+export_title+\"RandomForest\")\n",
    "joblib.dump(svm, output_folder+\"models/\"+export_title+\"SVM\")"
   ]
  },
  {
   "cell_type": "code",
   "execution_count": null,
   "id": "9ef10866",
   "metadata": {},
   "outputs": [],
   "source": [
    "# load model\n",
    "presaved_model = joblib.load(output_folder+\"models/\"+export_title+\"SVM\")\n",
    "report_utils.classification_summary(y_valid, presaved_model.predict_proba(x_valid)[:, 1]) "
   ]
  }
 ],
 "metadata": {
  "kernelspec": {
   "display_name": "Python 3 (ipykernel)",
   "language": "python",
   "name": "python3"
  },
  "language_info": {
   "codemirror_mode": {
    "name": "ipython",
    "version": 3
   },
   "file_extension": ".py",
   "mimetype": "text/x-python",
   "name": "python",
   "nbconvert_exporter": "python",
   "pygments_lexer": "ipython3",
   "version": "3.9.13"
  }
 },
 "nbformat": 4,
 "nbformat_minor": 5
}
