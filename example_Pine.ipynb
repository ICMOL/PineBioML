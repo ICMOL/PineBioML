{
 "cells": [
  {
   "cell_type": "markdown",
   "id": "0974a802",
   "metadata": {},
   "source": [
    "from sklearnex import patch_sklearn\n",
    "patch_sklearn()"
   ]
  },
  {
   "cell_type": "markdown",
   "id": "a4676ad0",
   "metadata": {},
   "source": [
    "# IO"
   ]
  },
  {
   "cell_type": "code",
   "execution_count": 1,
   "id": "e2412dbd",
   "metadata": {},
   "outputs": [],
   "source": [
    "from PineBioML import IO"
   ]
  },
  {
   "cell_type": "code",
   "execution_count": 2,
   "id": "be66d4d0",
   "metadata": {},
   "outputs": [],
   "source": [
    "# Path\n",
    "input_folder = \"./input/\"\n",
    "output_folder = \"./output/\"\n",
    "export_title = \"example_basic \""
   ]
  },
  {
   "cell_type": "code",
   "execution_count": 3,
   "id": "8435813e",
   "metadata": {},
   "outputs": [],
   "source": [
    "x, y = IO.read_multiple_groups(\n",
    "    file_path_list=[\n",
    "        input_folder+ \"example_group1.csv\", # all samples from this file will have y = 0, because it is in the 1st place of the file path list.\n",
    "        input_folder+ \"example_group2.tsv\", # all samples from this file will have y = 1, because it is in the 2nd place of the file path list.\n",
    "    ],\n",
    "    index_col=0\n",
    "    )"
   ]
  },
  {
   "cell_type": "code",
   "execution_count": 4,
   "id": "4da53123",
   "metadata": {},
   "outputs": [
    {
     "data": {
      "text/plain": [
       "0      0.0\n",
       "1      0.0\n",
       "2      0.0\n",
       "3      0.0\n",
       "4      0.0\n",
       "      ... \n",
       "195    1.0\n",
       "196    1.0\n",
       "197    1.0\n",
       "198    1.0\n",
       "199    1.0\n",
       "Length: 200, dtype: float64"
      ]
     },
     "execution_count": 4,
     "metadata": {},
     "output_type": "execute_result"
    }
   ],
   "source": [
    "y"
   ]
  },
  {
   "cell_type": "code",
   "execution_count": 5,
   "id": "7512303b",
   "metadata": {},
   "outputs": [],
   "source": [
    "target_label = 1.0"
   ]
  },
  {
   "cell_type": "markdown",
   "id": "c2888b70",
   "metadata": {},
   "source": [
    "# Train test split"
   ]
  },
  {
   "cell_type": "code",
   "execution_count": 6,
   "id": "16ddc0ce",
   "metadata": {},
   "outputs": [],
   "source": [
    "from sklearn.model_selection import train_test_split\n",
    "x_train, x_valid, y_train, y_valid = train_test_split(x, y, test_size=0.33, random_state=142, shuffle=True)"
   ]
  },
  {
   "cell_type": "markdown",
   "id": "d67931f0",
   "metadata": {},
   "source": [
    "# Experiment"
   ]
  },
  {
   "cell_type": "code",
   "execution_count": 7,
   "id": "3575a15a",
   "metadata": {},
   "outputs": [],
   "source": [
    "from PineBioML.model.utils import Pine, sklearn_esitimator_wrapper"
   ]
  },
  {
   "cell_type": "code",
   "execution_count": 8,
   "id": "b7df5e3e",
   "metadata": {},
   "outputs": [],
   "source": [
    "from PineBioML.preprocessing import Normalizer, Pass\n",
    "from PineBioML.preprocessing.impute import knn_imputer, simple_imputer\n",
    "from PineBioML.preprocessing.utils import feature_extension\n",
    "from PineBioML.selection.classification import essemble_selector\n",
    "from PineBioML.model.supervised import Classification\n",
    "from sklearn.linear_model import LogisticRegression\n",
    "\n",
    "\n",
    "# define the experiment pipeline\n",
    "experiment = [\n",
    "    (\"MissingValueProcessing\", {\n",
    "        \"mean\": simple_imputer(threshold=1., strategy=\"mean\")\n",
    "        }),\n",
    "    (\"Standarization\", {\n",
    "        #\"PowerTransformer\": Normalizer(method=\"PowerTransformer\"), \n",
    "        \"StandardScaler\": Normalizer(method=\"StandardScaler\"),\n",
    "        }),\n",
    "    (\"Selection\", {\n",
    "        \"ensemble\":essemble_selector(RF_trees=256, z_importance_threshold = 1), \n",
    "        \"None\": Pass()\n",
    "        }),\n",
    "    (\"Modeling\", {\n",
    "        \"LgisticRegression\": sklearn_esitimator_wrapper(LogisticRegression(penalty = None)),\n",
    "        \"RandomForest\": Classification.RandomForest_tuner(target=\"mcc\",validate_penalty=True),\n",
    "        \"XGBoost\": Classification.XGBoost_tuner(validate_penalty=True),\n",
    "        }),\n",
    "]"
   ]
  },
  {
   "cell_type": "code",
   "execution_count": 9,
   "id": "0615f26a",
   "metadata": {},
   "outputs": [
    {
     "name": "stdout",
     "output_type": "stream",
     "text": [
      "Using  c45  to select.\n"
     ]
    },
    {
     "name": "stderr",
     "output_type": "stream",
     "text": [
      "100%|██████████| 100/100 [00:00<00:00, 176.95it/s]\n"
     ]
    },
    {
     "name": "stdout",
     "output_type": "stream",
     "text": [
      "c45  is done.\n",
      "\n",
      "Using  RF_gini  to select.\n",
      "RF_gini  is done.\n",
      "\n",
      "Using  Lasso_Bisection  to select.\n",
      "Lasso_Bisection  is done.\n",
      "\n",
      "Using  multi_Lasso  to select.\n",
      "multi_Lasso  is done.\n",
      "\n",
      "Using  SVM  to select.\n",
      "SVM  is done.\n",
      "\n",
      "Using  AdaBoost  to select.\n",
      "I don't have a progress bar but I am running\n",
      "AdaBoost  is done.\n",
      "\n",
      "Using  XGboost  to select.\n",
      "XGboost  is done.\n",
      "\n",
      "Using  Lightgbm  to select.\n",
      "Lightgbm  is done.\n",
      "\n",
      "optuna seed 9244  |  validation seed 2896  |  model seed 6308\n",
      "    RandomForest start tuning. it will take a while.\n",
      "    optuna is better, best trial:  2\n",
      "optuna seed 12743  |  validation seed 4622  |  model seed 13742\n",
      "    XGBoost start tuning. it will take a while.\n",
      "    optuna is better, best trial:  56\n",
      "optuna seed 9244  |  validation seed 2896  |  model seed 6308\n",
      "    RandomForest start tuning. it will take a while.\n",
      "    optuna is better, best trial:  44\n",
      "optuna seed 12743  |  validation seed 4622  |  model seed 13742\n",
      "    XGBoost start tuning. it will take a while.\n",
      "    optuna is better, best trial:  87\n"
     ]
    }
   ],
   "source": [
    "pine_automl = Pine(experiment, target_label = target_label, cv_result= True)\n",
    "result = pine_automl.do_experiment(x_train, y_train, x_valid, y_valid)\n"
   ]
  },
  {
   "cell_type": "code",
   "execution_count": 10,
   "id": "03c0dfc0",
   "metadata": {},
   "outputs": [
    {
     "data": {
      "text/html": [
       "<div>\n",
       "<style scoped>\n",
       "    .dataframe tbody tr th:only-of-type {\n",
       "        vertical-align: middle;\n",
       "    }\n",
       "\n",
       "    .dataframe tbody tr th {\n",
       "        vertical-align: top;\n",
       "    }\n",
       "\n",
       "    .dataframe thead th {\n",
       "        text-align: right;\n",
       "    }\n",
       "</style>\n",
       "<table border=\"1\" class=\"dataframe\">\n",
       "  <thead>\n",
       "    <tr style=\"text-align: right;\">\n",
       "      <th></th>\n",
       "      <th>MissingValueProcessing</th>\n",
       "      <th>Standarization</th>\n",
       "      <th>Selection</th>\n",
       "      <th>Modeling</th>\n",
       "      <th>train_sensitivity</th>\n",
       "      <th>train_f1</th>\n",
       "      <th>train_specificity</th>\n",
       "      <th>train_auc</th>\n",
       "      <th>train_mcc</th>\n",
       "      <th>train_accuracy</th>\n",
       "      <th>...</th>\n",
       "      <th>cv_mcc</th>\n",
       "      <th>cv_accuracy</th>\n",
       "      <th>cv_support</th>\n",
       "      <th>test_sensitivity</th>\n",
       "      <th>test_f1</th>\n",
       "      <th>test_specificity</th>\n",
       "      <th>test_auc</th>\n",
       "      <th>test_mcc</th>\n",
       "      <th>test_accuracy</th>\n",
       "      <th>test_support</th>\n",
       "    </tr>\n",
       "  </thead>\n",
       "  <tbody>\n",
       "    <tr>\n",
       "      <th>2</th>\n",
       "      <td>mean</td>\n",
       "      <td>StandardScaler</td>\n",
       "      <td>ensemble</td>\n",
       "      <td>XGBoost</td>\n",
       "      <td>0.820896</td>\n",
       "      <td>0.827068</td>\n",
       "      <td>0.835821</td>\n",
       "      <td>0.883159</td>\n",
       "      <td>0.656790</td>\n",
       "      <td>0.828358</td>\n",
       "      <td>...</td>\n",
       "      <td>0.409312</td>\n",
       "      <td>0.701709</td>\n",
       "      <td>26.8</td>\n",
       "      <td>0.848485</td>\n",
       "      <td>0.727273</td>\n",
       "      <td>0.515152</td>\n",
       "      <td>0.647842</td>\n",
       "      <td>0.385695</td>\n",
       "      <td>0.681818</td>\n",
       "      <td>66</td>\n",
       "    </tr>\n",
       "    <tr>\n",
       "      <th>4</th>\n",
       "      <td>mean</td>\n",
       "      <td>StandardScaler</td>\n",
       "      <td>None</td>\n",
       "      <td>RandomForest</td>\n",
       "      <td>1.000000</td>\n",
       "      <td>1.000000</td>\n",
       "      <td>1.000000</td>\n",
       "      <td>1.000000</td>\n",
       "      <td>1.000000</td>\n",
       "      <td>1.000000</td>\n",
       "      <td>...</td>\n",
       "      <td>0.045265</td>\n",
       "      <td>0.521652</td>\n",
       "      <td>26.8</td>\n",
       "      <td>0.575758</td>\n",
       "      <td>0.584615</td>\n",
       "      <td>0.606061</td>\n",
       "      <td>0.649219</td>\n",
       "      <td>0.181902</td>\n",
       "      <td>0.590909</td>\n",
       "      <td>66</td>\n",
       "    </tr>\n",
       "    <tr>\n",
       "      <th>1</th>\n",
       "      <td>mean</td>\n",
       "      <td>StandardScaler</td>\n",
       "      <td>ensemble</td>\n",
       "      <td>RandomForest</td>\n",
       "      <td>0.835821</td>\n",
       "      <td>0.848485</td>\n",
       "      <td>0.865672</td>\n",
       "      <td>0.950546</td>\n",
       "      <td>0.701805</td>\n",
       "      <td>0.850746</td>\n",
       "      <td>...</td>\n",
       "      <td>0.417043</td>\n",
       "      <td>0.701709</td>\n",
       "      <td>26.8</td>\n",
       "      <td>0.818182</td>\n",
       "      <td>0.701299</td>\n",
       "      <td>0.484848</td>\n",
       "      <td>0.658402</td>\n",
       "      <td>0.321412</td>\n",
       "      <td>0.651515</td>\n",
       "      <td>66</td>\n",
       "    </tr>\n",
       "    <tr>\n",
       "      <th>5</th>\n",
       "      <td>mean</td>\n",
       "      <td>StandardScaler</td>\n",
       "      <td>None</td>\n",
       "      <td>XGBoost</td>\n",
       "      <td>0.835821</td>\n",
       "      <td>0.788732</td>\n",
       "      <td>0.716418</td>\n",
       "      <td>0.896525</td>\n",
       "      <td>0.556218</td>\n",
       "      <td>0.776119</td>\n",
       "      <td>...</td>\n",
       "      <td>0.235856</td>\n",
       "      <td>0.604274</td>\n",
       "      <td>26.8</td>\n",
       "      <td>0.878788</td>\n",
       "      <td>0.743590</td>\n",
       "      <td>0.515152</td>\n",
       "      <td>0.667126</td>\n",
       "      <td>0.422890</td>\n",
       "      <td>0.696970</td>\n",
       "      <td>66</td>\n",
       "    </tr>\n",
       "    <tr>\n",
       "      <th>3</th>\n",
       "      <td>mean</td>\n",
       "      <td>StandardScaler</td>\n",
       "      <td>None</td>\n",
       "      <td>LgisticRegression</td>\n",
       "      <td>1.000000</td>\n",
       "      <td>1.000000</td>\n",
       "      <td>1.000000</td>\n",
       "      <td>1.000000</td>\n",
       "      <td>1.000000</td>\n",
       "      <td>1.000000</td>\n",
       "      <td>...</td>\n",
       "      <td>0.153800</td>\n",
       "      <td>0.574359</td>\n",
       "      <td>26.8</td>\n",
       "      <td>0.636364</td>\n",
       "      <td>0.626866</td>\n",
       "      <td>0.606061</td>\n",
       "      <td>0.669421</td>\n",
       "      <td>0.242536</td>\n",
       "      <td>0.621212</td>\n",
       "      <td>66</td>\n",
       "    </tr>\n",
       "    <tr>\n",
       "      <th>0</th>\n",
       "      <td>mean</td>\n",
       "      <td>StandardScaler</td>\n",
       "      <td>ensemble</td>\n",
       "      <td>LgisticRegression</td>\n",
       "      <td>0.746269</td>\n",
       "      <td>0.751880</td>\n",
       "      <td>0.761194</td>\n",
       "      <td>0.786812</td>\n",
       "      <td>0.507519</td>\n",
       "      <td>0.753731</td>\n",
       "      <td>...</td>\n",
       "      <td>0.464329</td>\n",
       "      <td>0.723932</td>\n",
       "      <td>26.8</td>\n",
       "      <td>0.818182</td>\n",
       "      <td>0.710526</td>\n",
       "      <td>0.515152</td>\n",
       "      <td>0.695133</td>\n",
       "      <td>0.349780</td>\n",
       "      <td>0.666667</td>\n",
       "      <td>66</td>\n",
       "    </tr>\n",
       "  </tbody>\n",
       "</table>\n",
       "<p>6 rows × 25 columns</p>\n",
       "</div>"
      ],
      "text/plain": [
       "  MissingValueProcessing  Standarization Selection           Modeling  \\\n",
       "2                   mean  StandardScaler  ensemble            XGBoost   \n",
       "4                   mean  StandardScaler      None       RandomForest   \n",
       "1                   mean  StandardScaler  ensemble       RandomForest   \n",
       "5                   mean  StandardScaler      None            XGBoost   \n",
       "3                   mean  StandardScaler      None  LgisticRegression   \n",
       "0                   mean  StandardScaler  ensemble  LgisticRegression   \n",
       "\n",
       "   train_sensitivity  train_f1  train_specificity  train_auc  train_mcc  \\\n",
       "2           0.820896  0.827068           0.835821   0.883159   0.656790   \n",
       "4           1.000000  1.000000           1.000000   1.000000   1.000000   \n",
       "1           0.835821  0.848485           0.865672   0.950546   0.701805   \n",
       "5           0.835821  0.788732           0.716418   0.896525   0.556218   \n",
       "3           1.000000  1.000000           1.000000   1.000000   1.000000   \n",
       "0           0.746269  0.751880           0.761194   0.786812   0.507519   \n",
       "\n",
       "   train_accuracy  ...    cv_mcc  cv_accuracy  cv_support  test_sensitivity  \\\n",
       "2        0.828358  ...  0.409312     0.701709        26.8          0.848485   \n",
       "4        1.000000  ...  0.045265     0.521652        26.8          0.575758   \n",
       "1        0.850746  ...  0.417043     0.701709        26.8          0.818182   \n",
       "5        0.776119  ...  0.235856     0.604274        26.8          0.878788   \n",
       "3        1.000000  ...  0.153800     0.574359        26.8          0.636364   \n",
       "0        0.753731  ...  0.464329     0.723932        26.8          0.818182   \n",
       "\n",
       "    test_f1  test_specificity  test_auc  test_mcc  test_accuracy  test_support  \n",
       "2  0.727273          0.515152  0.647842  0.385695       0.681818            66  \n",
       "4  0.584615          0.606061  0.649219  0.181902       0.590909            66  \n",
       "1  0.701299          0.484848  0.658402  0.321412       0.651515            66  \n",
       "5  0.743590          0.515152  0.667126  0.422890       0.696970            66  \n",
       "3  0.626866          0.606061  0.669421  0.242536       0.621212            66  \n",
       "0  0.710526          0.515152  0.695133  0.349780       0.666667            66  \n",
       "\n",
       "[6 rows x 25 columns]"
      ]
     },
     "execution_count": 10,
     "metadata": {},
     "output_type": "execute_result"
    }
   ],
   "source": [
    "# print the results, sort according to test_auc\n",
    "result.sort_values(\"test_auc\")"
   ]
  },
  {
   "cell_type": "code",
   "execution_count": 11,
   "id": "092b032c",
   "metadata": {},
   "outputs": [],
   "source": [
    "# save the result\n",
    "result.to_csv(\"./output/example_Pine_result.csv\")"
   ]
  },
  {
   "cell_type": "markdown",
   "id": "323b69d2",
   "metadata": {},
   "source": [
    "# Pick a model and save it"
   ]
  },
  {
   "cell_type": "code",
   "execution_count": 12,
   "id": "77792284",
   "metadata": {},
   "outputs": [],
   "source": [
    "# notice that the model is not fitted yet\n",
    "model = pine_automl.recall_model(id = 0)"
   ]
  },
  {
   "cell_type": "code",
   "execution_count": 13,
   "id": "ec856fce",
   "metadata": {},
   "outputs": [
    {
     "name": "stdout",
     "output_type": "stream",
     "text": [
      "Using  c45  to select.\n"
     ]
    },
    {
     "name": "stderr",
     "output_type": "stream",
     "text": [
      "100%|██████████| 100/100 [00:01<00:00, 93.77it/s] \n"
     ]
    },
    {
     "name": "stdout",
     "output_type": "stream",
     "text": [
      "c45  is done.\n",
      "\n",
      "Using  RF_gini  to select.\n",
      "RF_gini  is done.\n",
      "\n",
      "Using  Lasso_Bisection  to select.\n",
      "Lasso_Bisection  is done.\n",
      "\n",
      "Using  multi_Lasso  to select.\n",
      "multi_Lasso  is done.\n",
      "\n",
      "Using  SVM  to select.\n",
      "SVM  is done.\n",
      "\n",
      "Using  AdaBoost  to select.\n",
      "I don't have a progress bar but I am running\n",
      "AdaBoost  is done.\n",
      "\n",
      "Using  XGboost  to select.\n",
      "XGboost  is done.\n",
      "\n",
      "Using  Lightgbm  to select.\n",
      "Lightgbm  is done.\n",
      "\n"
     ]
    }
   ],
   "source": [
    "# fit the model\n",
    "model.fit(x_train, y_train)\n",
    "y_valid_prob = model.predict_proba(x_valid)"
   ]
  },
  {
   "cell_type": "markdown",
   "id": "b4b18f7f",
   "metadata": {},
   "source": [
    "### summary"
   ]
  },
  {
   "cell_type": "code",
   "execution_count": 14,
   "id": "3de0d9d2",
   "metadata": {},
   "outputs": [
    {
     "name": "stdout",
     "output_type": "stream",
     "text": [
      "\n",
      " \n",
      "              precision    recall  f1-score   support\n",
      "\n",
      "         0.0       0.74      0.52      0.61        33\n",
      "         1.0       0.63      0.82      0.71        33\n",
      "\n",
      "    accuracy                           0.67        66\n",
      "   macro avg       0.68      0.67      0.66        66\n",
      "weighted avg       0.68      0.67      0.66        66\n",
      "\n",
      "sensitivity: 0.818\n",
      "specificity: 0.515\n"
     ]
    },
    {
     "data": {
      "image/png": "[encoded data removed]",
      "text/plain": [
       "<Figure size 640x480 with 2 Axes>"
      ]
     },
     "metadata": {},
     "output_type": "display_data"
    },
    {
     "data": {
      "image/png": "[encoded data removed]",
      "text/plain": [
       "<Figure size 640x480 with 1 Axes>"
      ]
     },
     "metadata": {},
     "output_type": "display_data"
    }
   ],
   "source": [
    "from PineBioML.report.utils import classification_summary\n",
    "\n",
    "classification_summary(y_valid, y_valid_prob, target_label=target_label)"
   ]
  },
  {
   "cell_type": "markdown",
   "id": "27f0a5c9",
   "metadata": {},
   "source": [
    "### save the model"
   ]
  },
  {
   "cell_type": "code",
   "execution_count": 15,
   "id": "6f6c582a",
   "metadata": {},
   "outputs": [
    {
     "name": "stdout",
     "output_type": "stream",
     "text": [
      "mode0  has already exist in  ./output/models/\n",
      "It will be overide.\n"
     ]
    }
   ],
   "source": [
    "IO.save_model(model, \"./output/models/\", \"mode0\", overide=True)"
   ]
  }
 ],
 "metadata": {
  "kernelspec": {
   "display_name": "Python 3",
   "language": "python",
   "name": "python3"
  },
  "language_info": {
   "codemirror_mode": {
    "name": "ipython",
    "version": 3
   },
   "file_extension": ".py",
   "mimetype": "text/x-python",
   "name": "python",
   "nbconvert_exporter": "python",
   "pygments_lexer": "ipython3",
   "version": "3.9.13"
  }
 },
 "nbformat": 4,
 "nbformat_minor": 5
}
